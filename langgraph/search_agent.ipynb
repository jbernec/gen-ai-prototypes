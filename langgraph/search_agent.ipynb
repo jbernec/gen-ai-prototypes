{
 "cells": [
  {
   "cell_type": "code",
   "execution_count": 3,
   "metadata": {},
   "outputs": [],
   "source": [
    "from langchain_openai import ChatOpenAI, AzureChatOpenAI\n",
    "from langgraph_supervisor import  create_supervisor\n",
    "from langgraph.prebuilt import  create_react_agent\n",
    "from openai import AzureOpenAI\n",
    "import os\n",
    "import azure.identity\n",
    "from azure.identity import ClientSecretCredential\n",
    "from azure.keyvault.secrets import SecretClient\n",
    "from azure.identity import DefaultAzureCredential"
   ]
  },
  {
   "cell_type": "code",
   "execution_count": 1,
   "metadata": {},
   "outputs": [],
   "source": [
    "try:\n",
    "    keyVaultName = os.environ[\"KEY_VAULT_NAME\"]\n",
    "except KeyError:\n",
    "    # Get input from user if not set\n",
    "    keyVaultName = input(\"Please enter your Key Vault name: \")\n",
    "    # Save for future cells in this session\n",
    "    os.environ[\"KEY_VAULT_NAME\"] = keyVaultName"
   ]
  },
  {
   "cell_type": "code",
   "execution_count": 4,
   "metadata": {},
   "outputs": [],
   "source": [
    "keyVaultName = os.environ[\"KEY_VAULT_NAME\"]\n",
    "KVUri = f\"https://{keyVaultName}.vault.azure.net\"\n",
    "\n",
    "credential = DefaultAzureCredential()\n",
    "client = SecretClient(vault_url=KVUri, credential=credential)"
   ]
  },
  {
   "cell_type": "code",
   "execution_count": 5,
   "metadata": {},
   "outputs": [],
   "source": [
    "azure_openai_endpoint=client.get_secret(name=\"aoai-endpoint\").value\n",
    "azure_openai_api_key=client.get_secret(name=\"aoai-api-key\").value\n",
    "azure_openai_api_version = \"2024-02-15-preview\""
   ]
  },
  {
   "cell_type": "code",
   "execution_count": 6,
   "metadata": {},
   "outputs": [],
   "source": [
    "model = AzureChatOpenAI(model=\"gpt-4o\", api_key=azure_openai_api_key, api_version=azure_openai_api_version, azure_endpoint=azure_openai_endpoint)"
   ]
  },
  {
   "cell_type": "code",
   "execution_count": 15,
   "metadata": {},
   "outputs": [],
   "source": [
    "from azure.search.documents import SearchClient\n",
    "from azure.search.documents.models import VectorizableTextQuery\n",
    "from azure.core.credentials import AzureKeyCredential\n",
    "from azure.search.documents.models import (\n",
    "    QueryType,\n",
    "    QueryCaptionType,\n",
    "    QueryAnswerType\n",
    ")\n",
    "\n",
    "search_credential =AzureKeyCredential(client.get_secret(name=\"aisearch-key\").value)\n",
    "search_endpoint =client.get_secret(name=\"aisearch-endpoint\").value\n",
    "index_name = \"csv-glossary-index\"\n",
    "\n",
    "\n",
    "def search_retrieval(user_input:str) -> str:\n",
    "        \"\"\"\n",
    "        Search and retrieve answers from Azure AI Search.\n",
    "        Returns:\n",
    "            str\n",
    "        \"\"\"\n",
    "        query = user_input\n",
    "        search_result = \"\"\n",
    "        search_client = SearchClient(endpoint=search_endpoint, index_name=index_name, credential=search_credential)\n",
    "        vector_query = VectorizableTextQuery(text=query, k_nearest_neighbors=2, fields=\"vector\", exhaustive=True)\n",
    "\n",
    "        r = search_client.search(  \n",
    "        search_text=query,\n",
    "        vector_queries=[vector_query],\n",
    "        select=[\"id\", \"notes\", \"chunk\"],\n",
    "        query_type=QueryType.SEMANTIC,\n",
    "        semantic_configuration_name='my-semantic-config',\n",
    "        query_caption=QueryCaptionType.EXTRACTIVE,\n",
    "        query_answer=QueryAnswerType.EXTRACTIVE,\n",
    "        top=1\n",
    "    )\n",
    "        for result in r:  \n",
    "            print(f\"id: {result['id']}\")  \n",
    "            print(f\"notes: {result['notes']}\")  \n",
    "            print(f\"Score: {result['@search.score']}\")  \n",
    "            print(f\"Content: {result['chunk']}\")\n",
    "            search_result += result['chunk']\n",
    "        return search_result "
   ]
  },
  {
   "cell_type": "code",
   "execution_count": 16,
   "metadata": {},
   "outputs": [],
   "source": [
    "research_agent = create_react_agent(\n",
    "    model=model,\n",
    "    tools=[search_retrieval],\n",
    "    name=\"search_expert\",\n",
    "    prompt=\"You are a world class researcher with access to an azure index. Use only the index response to respond.\"\n",
    ")"
   ]
  },
  {
   "cell_type": "code",
   "execution_count": 17,
   "metadata": {},
   "outputs": [
    {
     "name": "stdout",
     "output_type": "stream",
     "text": [
      "id: 99d593c454b5_aHR0cHM6Ly9ibG9ic3RvcmUwNS5ibG9iLmNvcmUud2luZG93cy5uZXQvZXhjZWwtZGF0YS9nbG9zc2FyeV9kYXRhc2V0LmNzdjs20_chunks_0\n",
      "notes: Popular frameworks include Scrum and Kanban.\n",
      "Score: 0.032786883413791656\n",
      "Content: A project management and software development methodology focusing on iterative progress.\n"
     ]
    }
   ],
   "source": [
    "result = research_agent.invoke(\n",
    "    {\n",
    "        \"messages\":[\n",
    "            {\n",
    "                \"role\": \"user\",\n",
    "                \"content\": \"what is agile?\"\n",
    "            }\n",
    "        ]\n",
    "    }\n",
    ")"
   ]
  },
  {
   "cell_type": "code",
   "execution_count": 18,
   "metadata": {},
   "outputs": [
    {
     "name": "stdout",
     "output_type": "stream",
     "text": [
      "================================\u001b[1m Human Message \u001b[0m=================================\n",
      "\n",
      "what is agile?\n",
      "None\n",
      "==================================\u001b[1m Ai Message \u001b[0m==================================\n",
      "Name: search_expert\n",
      "Tool Calls:\n",
      "  search_retrieval (call_bIMQ56moR1gDzqeJXLYS82ci)\n",
      " Call ID: call_bIMQ56moR1gDzqeJXLYS82ci\n",
      "  Args:\n",
      "    user_input: agile\n",
      "None\n",
      "=================================\u001b[1m Tool Message \u001b[0m=================================\n",
      "Name: search_retrieval\n",
      "\n",
      "A project management and software development methodology focusing on iterative progress.\n",
      "None\n",
      "==================================\u001b[1m Ai Message \u001b[0m==================================\n",
      "Name: search_expert\n",
      "\n",
      "Agile is a project management and software development methodology that emphasizes iterative progress. It is designed to be flexible and collaborative, allowing for adaptive planning and continuous improvement throughout the development process.\n",
      "None\n"
     ]
    }
   ],
   "source": [
    "# Show agent's step by step response\n",
    "for message in result[\"messages\"]:\n",
    "    print(message.pretty_print())"
   ]
  }
 ],
 "metadata": {
  "kernelspec": {
   "display_name": ".venv",
   "language": "python",
   "name": "python3"
  },
  "language_info": {
   "codemirror_mode": {
    "name": "ipython",
    "version": 3
   },
   "file_extension": ".py",
   "mimetype": "text/x-python",
   "name": "python",
   "nbconvert_exporter": "python",
   "pygments_lexer": "ipython3",
   "version": "3.11.9"
  }
 },
 "nbformat": 4,
 "nbformat_minor": 2
}
