{
 "cells": [
  {
   "cell_type": "code",
   "execution_count": 1,
   "metadata": {},
   "outputs": [],
   "source": [
    "from langchain_openai import ChatOpenAI, AzureChatOpenAI\n",
    "from langgraph_supervisor import  create_supervisor\n",
    "from langgraph.prebuilt import  create_react_agent\n",
    "from openai import AzureOpenAI\n",
    "import os\n",
    "import azure.identity\n",
    "from azure.identity import ClientSecretCredential\n",
    "from azure.keyvault.secrets import SecretClient\n",
    "from azure.identity import DefaultAzureCredential"
   ]
  },
  {
   "cell_type": "code",
   "execution_count": 2,
   "metadata": {},
   "outputs": [],
   "source": [
    "import langgraph"
   ]
  },
  {
   "cell_type": "code",
   "execution_count": 3,
   "metadata": {},
   "outputs": [],
   "source": [
    "try:\n",
    "    keyVaultName = os.environ[\"KEY_VAULT_NAME\"]\n",
    "except KeyError:\n",
    "    # Get input from user if not set\n",
    "    keyVaultName = input(\"Please enter your Key Vault name: \")\n",
    "    # Save for future cells in this session\n",
    "    os.environ[\"KEY_VAULT_NAME\"] = keyVaultName"
   ]
  },
  {
   "cell_type": "code",
   "execution_count": 4,
   "metadata": {},
   "outputs": [],
   "source": [
    "keyVaultName = os.environ[\"KEY_VAULT_NAME\"]\n",
    "KVUri = f\"https://{keyVaultName}.vault.azure.net\"\n",
    "\n",
    "credential = DefaultAzureCredential()\n",
    "client = SecretClient(vault_url=KVUri, credential=credential)"
   ]
  },
  {
   "cell_type": "code",
   "execution_count": 5,
   "metadata": {},
   "outputs": [],
   "source": [
    "azure_openai_endpoint=client.get_secret(name=\"aoai-endpoint\").value\n",
    "azure_openai_api_key=client.get_secret(name=\"aoai-api-key\").value\n",
    "azure_openai_api_version = \"2024-02-15-preview\""
   ]
  },
  {
   "cell_type": "code",
   "execution_count": 7,
   "metadata": {},
   "outputs": [],
   "source": [
    "model = AzureChatOpenAI(model=\"gpt-4o\", api_key=azure_openai_api_key, api_version=azure_openai_api_version, azure_endpoint=azure_openai_endpoint)"
   ]
  },
  {
   "cell_type": "code",
   "execution_count": 8,
   "metadata": {},
   "outputs": [],
   "source": [
    "# Create specialized agents\n",
    "\n",
    "def add_floats(a: float, b:float) -> float:\n",
    "    \"\"\"Add two floats.\"\n",
    "    \"\"\"\"\"\n",
    "    return a + b\n",
    "\n",
    "\n",
    "def multiply_floats(a: float, b: float) -> float:\n",
    "    \"\"\"Multiply two floats.\n",
    "    \"\"\"\n",
    "    return a * b\n",
    "\n",
    "def web_search(query:str) -> str:\n",
    "    \"\"\"Search the web for information.\n",
    "    \"\"\"\n",
    "    return (\n",
    "        \"Here are the headcounts for each of the FAANG companies in 2025:\\n\"\n",
    "        \"1. **Facebook (Meta)**: 67,317 employees.\\n\"\n",
    "        \"2. **Apple**: 164,000 employees.\\n\"\n",
    "        \"3. **Amazon**: 1,551,000 employees.\\n\"\n",
    "        \"4. **Netflix**: 14,000 employees.\\n\"\n",
    "        \"5. **Google (Alphabet)**: 181,269 employees.\"\n",
    "    )\n",
    "\n",
    "math_agent = create_react_agent(\n",
    "    model=model,\n",
    "    tools=[add_floats, multiply_floats],\n",
    "    name=\"math_expert\",\n",
    "    prompt=\"You are a math agent. Always use one tool at a time.\"\n",
    ")\n",
    "\n",
    "research_agent = create_react_agent(\n",
    "    model=model,\n",
    "    tools=[web_search],\n",
    "    name=\"research_expert\",\n",
    "    prompt=\"You are a world class researcher with access to web search. Do not do any math.\"\n",
    ")\n"
   ]
  },
  {
   "cell_type": "code",
   "execution_count": 9,
   "metadata": {},
   "outputs": [],
   "source": [
    "#Create supervisor workflow\n",
    "workflow = create_supervisor(\n",
    "    agents=[math_agent, research_agent],\n",
    "    model=model,\n",
    "    prompt=(\"You are a team supervisor managing a research expert and a math expert.\"\n",
    "        \"For current events, use research_agent.\"\n",
    "        \"For math problems, use math_agent.\")\n",
    ")"
   ]
  },
  {
   "cell_type": "code",
   "execution_count": 10,
   "metadata": {},
   "outputs": [],
   "source": [
    "# Compile and run the workflow\n",
    "\n",
    "app = workflow.compile()\n",
    "result = app.invoke(\n",
    "    {\n",
    "        \"messages\":[\n",
    "            {\n",
    "                \"role\": \"user\",\n",
    "                \"content\": \"what's the combined headcount of the FAANG companies in 2024?\"\n",
    "            }\n",
    "        ]\n",
    "    }\n",
    ")\n"
   ]
  },
  {
   "cell_type": "code",
   "execution_count": 11,
   "metadata": {},
   "outputs": [
    {
     "name": "stdout",
     "output_type": "stream",
     "text": [
      "The agent returned :The 2024 headcount data for each FAANG company is not readily available, but as of 2025, the combined headcount is as follows:\n",
      "\n",
      "1. Meta (Facebook): 67,317 employees\n",
      "2. Apple: 164,000 employees\n",
      "3. Amazon: 1,551,000 employees\n",
      "4. Netflix: 14,000 employees\n",
      "5. Alphabet (Google): 181,269 employees\n",
      "\n",
      "These numbers total up to a combined headcount of 1,977,586 employees. Keep in mind that these figures are for 2025, and actual 2024 numbers may vary.\n"
     ]
    }
   ],
   "source": [
    "print(f\"The agent returned :{result['messages'][-1].content}\")"
   ]
  },
  {
   "cell_type": "code",
   "execution_count": 12,
   "metadata": {},
   "outputs": [
    {
     "name": "stdout",
     "output_type": "stream",
     "text": [
      "================================\u001b[1m Human Message \u001b[0m=================================\n",
      "\n",
      "what's the combined headcount of the FAANG companies in 2024?\n",
      "None\n",
      "==================================\u001b[1m Ai Message \u001b[0m==================================\n",
      "Name: supervisor\n",
      "Tool Calls:\n",
      "  transfer_to_research_expert (call_Xw0ZseuZBMjTpt8rxnkobiIU)\n",
      " Call ID: call_Xw0ZseuZBMjTpt8rxnkobiIU\n",
      "  Args:\n",
      "None\n",
      "=================================\u001b[1m Tool Message \u001b[0m=================================\n",
      "Name: transfer_to_research_expert\n",
      "\n",
      "Successfully transferred to research_expert\n",
      "None\n",
      "==================================\u001b[1m Ai Message \u001b[0m==================================\n",
      "Name: research_expert\n",
      "\n",
      "I couldn't find specific 2024 headcount data for each of the FAANG companies. However, here are the headcounts for each of the FAANG companies in 2025:\n",
      "\n",
      "1. **Facebook (Meta)**: 67,317 employees.\n",
      "2. **Apple**: 164,000 employees.\n",
      "3. **Amazon**: 1,551,000 employees.\n",
      "4. **Netflix**: 14,000 employees.\n",
      "5. **Google (Alphabet)**: 181,269 employees.\n",
      "\n",
      "Please note this data is for 2025, and actual 2024 figures might vary.\n",
      "None\n",
      "==================================\u001b[1m Ai Message \u001b[0m==================================\n",
      "Name: research_expert\n",
      "\n",
      "Transferring back to supervisor\n",
      "Tool Calls:\n",
      "  transfer_back_to_supervisor (7958be93-826c-4006-9834-684a0eb5c91a)\n",
      " Call ID: 7958be93-826c-4006-9834-684a0eb5c91a\n",
      "  Args:\n",
      "None\n",
      "=================================\u001b[1m Tool Message \u001b[0m=================================\n",
      "Name: transfer_back_to_supervisor\n",
      "\n",
      "Successfully transferred back to supervisor\n",
      "None\n",
      "==================================\u001b[1m Ai Message \u001b[0m==================================\n",
      "Name: supervisor\n",
      "\n",
      "The 2024 headcount data for each FAANG company is not readily available, but as of 2025, the combined headcount is as follows:\n",
      "\n",
      "1. Meta (Facebook): 67,317 employees\n",
      "2. Apple: 164,000 employees\n",
      "3. Amazon: 1,551,000 employees\n",
      "4. Netflix: 14,000 employees\n",
      "5. Alphabet (Google): 181,269 employees\n",
      "\n",
      "These numbers total up to a combined headcount of 1,977,586 employees. Keep in mind that these figures are for 2025, and actual 2024 numbers may vary.\n",
      "None\n"
     ]
    }
   ],
   "source": [
    "# Show agent's step by step response\n",
    "for message in result[\"messages\"]:\n",
    "    print(message.pretty_print())"
   ]
  },
  {
   "cell_type": "code",
   "execution_count": 4,
   "metadata": {},
   "outputs": [
    {
     "data": {
      "text/plain": [
       "['__doc__',\n",
       " '__file__',\n",
       " '__loader__',\n",
       " '__name__',\n",
       " '__package__',\n",
       " '__path__',\n",
       " '__spec__',\n",
       " 'base',\n",
       " 'memory',\n",
       " 'serde']"
      ]
     },
     "execution_count": 4,
     "metadata": {},
     "output_type": "execute_result"
    }
   ],
   "source": [
    "import langgraph.checkpoint.memory\n",
    "import langgraph.store\n",
    "import langgraph.store.base\n",
    "\n",
    "import langgraph.checkpoint\n",
    "\n",
    "\n",
    "dir(langgraph.checkpoint)"
   ]
  }
 ],
 "metadata": {
  "kernelspec": {
   "display_name": ".venv",
   "language": "python",
   "name": "python3"
  },
  "language_info": {
   "codemirror_mode": {
    "name": "ipython",
    "version": 3
   },
   "file_extension": ".py",
   "mimetype": "text/x-python",
   "name": "python",
   "nbconvert_exporter": "python",
   "pygments_lexer": "ipython3",
   "version": "3.11.9"
  }
 },
 "nbformat": 4,
 "nbformat_minor": 2
}
