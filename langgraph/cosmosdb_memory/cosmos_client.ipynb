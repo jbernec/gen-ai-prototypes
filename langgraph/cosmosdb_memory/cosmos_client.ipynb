{
 "cells": [
  {
   "cell_type": "code",
   "execution_count": 46,
   "metadata": {},
   "outputs": [],
   "source": [
    "# Basic example using simple graph and a CosmosDB checkpointer\n",
    "from langgraph.graph import StateGraph, START, END\n",
    "from langgraph_checkpoint_cosmosdb import CosmosDBSaver\n",
    "from azure.cosmos import exceptions, PartitionKey #CosmosClient\n",
    "from azure.cosmos.aio import CosmosClient\n",
    "from azure.keyvault.secrets import SecretClient\n",
    "import os\n",
    "import azure.identity\n",
    "from azure.identity import DefaultAzureCredential\n",
    "from openai import AzureOpenAI\n",
    "from langchain_openai import AzureChatOpenAI\n",
    "from langgraph_supervisor import  create_supervisor\n",
    "from langgraph.prebuilt import  create_react_agent\n",
    "import uuid\n",
    "from langchain_core.messages import HumanMessage, AIMessage, ToolMessage, AIMessageChunk\n",
    "\n",
    "\n",
    "try:\n",
    "    keyVaultName = os.environ[\"KEY_VAULT_NAME\"]\n",
    "except KeyError:\n",
    "    # Get input from user if not set\n",
    "    keyVaultName = input(\"Please enter your Key Vault name: \")\n",
    "    # Save for future cells in this session\n",
    "    os.environ[\"KEY_VAULT_NAME\"] = keyVaultName\n",
    "\n",
    "\n",
    "keyVaultName = os.environ[\"KEY_VAULT_NAME\"]\n",
    "KVUri = f\"https://{keyVaultName}.vault.azure.net\"\n",
    "\n",
    "credential = DefaultAzureCredential()\n",
    "client = SecretClient(vault_url=KVUri, credential=credential)\n",
    "\n",
    "cosmosdb_endpoint=client.get_secret(name=\"cosmosdb-url\").value\n",
    "cosmosdb_key = client.get_secret(name=\"cosmosdb-key\").value\n",
    "\n",
    "# Service principal authentication variables\n",
    "tenant_id=client.get_secret(name=\"tenantid\").value\n",
    "client_id =client.get_secret(name=\"clientid\").value \n",
    "client_secret =client.get_secret(name=\"clientsecret\").value\n",
    "conn_str =client.get_secret(name=\"cosmosdb-connstr\").value\n",
    "#credential = azure.identity.ClientSecretCredential(tenant_id=tenant_id, client_id=client_id, client_secret=client_secret)\n",
    "credential = DefaultAzureCredential()\n",
    "\n",
    "cosmos_client = CosmosClient(\n",
    "                        url=cosmosdb_endpoint,\n",
    "                        credential=credential,\n",
    "                    )"
   ]
  },
  {
   "cell_type": "code",
   "execution_count": 2,
   "metadata": {},
   "outputs": [],
   "source": [
    "db = await cosmos_client.create_database_if_not_exists(id=\"terminologydb\")"
   ]
  },
  {
   "cell_type": "code",
   "execution_count": 3,
   "metadata": {},
   "outputs": [],
   "source": [
    "conn_str =client.get_secret(name=\"cosmosdb-connstr\").value\n",
    "cosmos_vector_property_name = \"vector\"\n",
    "cosmosdb_data_container = \"terminology\"\n",
    "cosmosdb_history_container = \"chathistory\"\n",
    "checkpoint_container = \"checkpoint\""
   ]
  },
  {
   "cell_type": "code",
   "execution_count": 4,
   "metadata": {},
   "outputs": [],
   "source": [
    "# Create the vector embedding policy\n",
    "vector_embedding_policy = {\n",
    "    \"vectorEmbeddings\": [\n",
    "        {\n",
    "            \"path\": \"/\" + cosmos_vector_property_name,\n",
    "            \"dataType\": \"float32\",\n",
    "            \"distanceFunction\": \"dotproduct\",\n",
    "            \"dimensions\": 1536\n",
    "        }\n",
    "    ]\n",
    "}\n",
    "\n",
    "\n",
    "# Create the vector index policy\n",
    "indexing_policy = {\n",
    "    \"includedPaths\": [{\"path\": \"/*\"}],\n",
    "    \"excludedPaths\": [\n",
    "        {\"path\": '/\"_etag\"/?', \"path\": \"/\" + cosmos_vector_property_name + \"/*\"}\n",
    "    ],\n",
    "    \"vectorIndexes\": [\n",
    "        {\"path\": \"/\" + cosmos_vector_property_name, \"type\": \"quantizedFlat\"}\n",
    "    ],\n",
    "}"
   ]
  },
  {
   "cell_type": "code",
   "execution_count": 5,
   "metadata": {},
   "outputs": [
    {
     "name": "stdout",
     "output_type": "stream",
     "text": [
      "Container with id '<built-in function id>' created\n"
     ]
    }
   ],
   "source": [
    "# create the collection using the vector index policies\n",
    "try:\n",
    "    pass\n",
    "    container_data = await db.create_container_if_not_exists(\n",
    "        id=cosmosdb_data_container,\n",
    "        partition_key=PartitionKey(path=\"/id\"),\n",
    "        vector_embedding_policy=vector_embedding_policy\n",
    "    )\n",
    "    print('Container with id \\'{0}\\' created'.format(id))\n",
    "except exceptions.CosmosHttpResponseError:\n",
    "    raise"
   ]
  },
  {
   "cell_type": "code",
   "execution_count": 58,
   "metadata": {},
   "outputs": [
    {
     "name": "stdout",
     "output_type": "stream",
     "text": [
      "Container with id '<built-in function id>' created\n"
     ]
    }
   ],
   "source": [
    "# create the collection using the vector index policies\n",
    "try:\n",
    "    pass\n",
    "    container_history = await db.create_container_if_not_exists(\n",
    "        id=cosmosdb_history_container,\n",
    "        partition_key=PartitionKey(path=\"/id\"),\n",
    "        vector_embedding_policy=vector_embedding_policy\n",
    "    )\n",
    "    print('Container with id \\'{0}\\' created'.format(id))\n",
    "except exceptions.CosmosHttpResponseError:\n",
    "    raise"
   ]
  },
  {
   "cell_type": "code",
   "execution_count": 57,
   "metadata": {},
   "outputs": [
    {
     "name": "stdout",
     "output_type": "stream",
     "text": [
      "Container with id '<built-in function id>' created\n"
     ]
    }
   ],
   "source": [
    "# create the checkpoint container using the vector index policies\n",
    "try:\n",
    "    pass\n",
    "    container_checkpoint = await db.create_container_if_not_exists(\n",
    "        id=checkpoint_container,\n",
    "        partition_key=PartitionKey(path=\"/id\"),\n",
    "        vector_embedding_policy=vector_embedding_policy\n",
    "    )\n",
    "    print('Container with id \\'{0}\\' created'.format(id))\n",
    "except exceptions.CosmosHttpResponseError:\n",
    "    raise"
   ]
  },
  {
   "cell_type": "markdown",
   "metadata": {},
   "source": [
    "### RAG"
   ]
  },
  {
   "cell_type": "code",
   "execution_count": null,
   "metadata": {},
   "outputs": [],
   "source": [
    "# https://learn.microsoft.com/en-us/azure/cosmos-db/gen-ai/rag-chatbot?context=%2Fazure%2Fcosmos-db%2Fnosql%2Fcontext%2Fcontext\n",
    "# https://learn.microsoft.com/en-us/azure/cosmos-db/ai-agents?context=%2Fazure%2Fcosmos-db%2Fnosql%2Fcontext%2Fcontext\n",
    "# https://github.com/jonathanscholtes/Travel-AI-Agent-React-FastAPI-and-Cosmos-DB-Vector-Store"
   ]
  },
  {
   "cell_type": "code",
   "execution_count": 8,
   "metadata": {},
   "outputs": [],
   "source": [
    "\"\"\"\n",
    "This code loads and sets the necessary variables for Azure services.\n",
    "The variables are loaded from Azure Key Vault.\n",
    "\"\"\"\n",
    "# Open AI\n",
    "azure_openai_endpoint=client.get_secret(name=\"aoai-endpoint\").value\n",
    "azure_openai_api_key=client.get_secret(name=\"aoai-api-key\").value\n",
    "azure_openai_api_version = \"2024-02-15-preview\"\n",
    "# Embedding\n",
    "azure_openai_embedding_deployment = \"text-embedding-3-small\"\n",
    "azure_openai_embedding_model =client.get_secret(name=\"aoai-embedding-model\").value\n",
    "azure_openai_vector_dimension = 1536\n",
    "\n",
    "azure_openai_client = AzureOpenAI(\n",
    "    api_key=azure_openai_api_key,\n",
    "    api_version=azure_openai_api_version,\n",
    "    azure_endpoint=azure_openai_endpoint,\n",
    ")"
   ]
  },
  {
   "cell_type": "code",
   "execution_count": 9,
   "metadata": {},
   "outputs": [],
   "source": [
    "# develop function to embed data attributes.\n",
    "\n",
    "def generate_embeddings(text: str):\n",
    "    \"\"\"\n",
    "    Generate embeddings from string of text.\n",
    "    This will be used to vectorize data and user input for interactions with Azure OpenAI.\n",
    "    \"\"\"\n",
    "    response = azure_openai_client.embeddings.create(\n",
    "        input=text, model=azure_openai_embedding_deployment\n",
    "    )\n",
    "    embeddings = response.model_dump()\n",
    "    return embeddings[\"data\"][0][\"embedding\"]"
   ]
  },
  {
   "cell_type": "code",
   "execution_count": 55,
   "metadata": {},
   "outputs": [],
   "source": [
    "async def save_chat_history(container_history, user_input, user_input_embedding):\n",
    "    chat_history_object = {\n",
    "        \"id\": str(uuid.uuid4()),\n",
    "        \"prompt\": user_input,\n",
    "        'vector': user_input_embedding\n",
    "        }\n",
    "    try:\n",
    "        pass\n",
    "        # Insert the chat document into the Cosmos DB container\n",
    "        await container_history.create_item(body=chat_history_object)\n",
    "        #print(\"item inserted into cache.\", chat_history_object)\n",
    "    except Exception as e:\n",
    "        print(e)"
   ]
  },
  {
   "cell_type": "code",
   "execution_count": 51,
   "metadata": {},
   "outputs": [],
   "source": [
    "async def get_chat_history(container_history, completions=1):\n",
    "    results = container_history.query_items(\n",
    "        query= '''\n",
    "        SELECT TOP @completions *\n",
    "        FROM c\n",
    "        ORDER BY c._ts DESC\n",
    "        ''',\n",
    "        parameters=[\n",
    "            {\"name\": \"@completions\", \"value\": completions},\n",
    "        ])\n",
    "    items = []\n",
    "    async for result in results:\n",
    "        items.append(result)\n",
    "    \n",
    "    return items"
   ]
  },
  {
   "cell_type": "code",
   "execution_count": 52,
   "metadata": {},
   "outputs": [
    {
     "name": "stdout",
     "output_type": "stream",
     "text": [
      "list index out of range\n"
     ]
    }
   ],
   "source": [
    "try:\n",
    "  pass\n",
    "  chat_hist = await get_chat_history(container_history=container_history)\n",
    "  print(chat_hist[0][\"completion\"])\n",
    "except Exception as e:\n",
    "  print(e)"
   ]
  },
  {
   "cell_type": "code",
   "execution_count": 10,
   "metadata": {},
   "outputs": [],
   "source": [
    "# Check if the question has been asked before and retrieve response from cache container\n",
    "async def get_cache(container, vectors, similarity_score=0.02, num_results=1):\n",
    "    # Execute the query\n",
    "    formatted_results = []\n",
    "    results = container.query_items(\n",
    "        query= '''\n",
    "        SELECT TOP @num_results *\n",
    "        FROM c\n",
    "        WHERE VectorDistance(c.vector,@embedding) > @similarity_score\n",
    "        ORDER BY VectorDistance(c.vector,@embedding)\n",
    "        ''',\n",
    "        parameters=[\n",
    "            {\"name\": \"@embedding\", \"value\": vectors},\n",
    "            {\"name\": \"@num_results\", \"value\": num_results},\n",
    "            {\"name\": \"@similarity_score\", \"value\": similarity_score},\n",
    "        ], populate_query_metrics=True)\n",
    "    #results = list(results)\n",
    "    #print(results)\n",
    "    async for result in results: \n",
    "        #print(f\"Similarity Score: {result['SimilarityScore']}\") \n",
    "        formatted_results.append(result['completion'])\n",
    "\n",
    "    return formatted_results"
   ]
  },
  {
   "cell_type": "code",
   "execution_count": 53,
   "metadata": {},
   "outputs": [],
   "source": [
    "try:\n",
    "    # Test the get chat history function\n",
    "    await get_cache(container=container_history, vectors=generate_embeddings(text=\"do you have a batman movie?\"), similarity_score=0.99)\n",
    "except exceptions.CosmosHttpResponseError as e:\n",
    "    print(f\"Error: {e.message}\")"
   ]
  },
  {
   "cell_type": "code",
   "execution_count": 13,
   "metadata": {},
   "outputs": [],
   "source": [
    "import asyncio\n",
    "from azure.search.documents import SearchClient\n",
    "from azure.search.documents.models import VectorizableTextQuery\n",
    "from azure.core.credentials import AzureKeyCredential\n",
    "from azure.search.documents.models import (\n",
    "    QueryType,\n",
    "    QueryCaptionType,\n",
    "    QueryAnswerType\n",
    ")\n",
    "\n",
    "search_credential =AzureKeyCredential(client.get_secret(name=\"aisearch-key\").value)\n",
    "search_endpoint =client.get_secret(name=\"aisearch-endpoint\").value\n",
    "source = 'json'\n",
    "index_name = f\"{source}-glossary-index\"\n",
    "\n",
    "async def search_retrieval(user_input: str, db=db, container_object=container_history, cosmos_vector_property_name=\"vector\", include_try_except: bool = True) -> list:\n",
    "    \"\"\"\n",
    "    Search and retrieve answers from Azure AI Search and Cosmos DB.\n",
    "    Returns:\n",
    "        list of dictionaries containing search results\n",
    "    \"\"\"\n",
    "    query = user_input\n",
    "    search_results = []  # Initialize an empty list to store dictionaries\n",
    "\n",
    "    # Initialize Azure Cognitive Search client\n",
    "    search_client = SearchClient(endpoint=search_endpoint, index_name=index_name, credential=search_credential)\n",
    "    vector_query = VectorizableTextQuery(text=query, k_nearest_neighbors=2, fields=\"text_vector\", exhaustive=True)\n",
    "    try:\n",
    "        # Call the Cosmos DB search function\n",
    "        results = await get_cache(\n",
    "            container=container_object,\n",
    "            vectors=generate_embeddings(text=query),\n",
    "            similarity_score=0.02,\n",
    "        )\n",
    "\n",
    "        print(\"Function Call completed, now compiling results\")\n",
    "        for result in results:\n",
    "            print(\"id: \" + result['document']['c']['id'])\n",
    "            print(\"query: \" + result['document']['c']['query'])\n",
    "            print(\"response: \" + result['document']['c']['response'])\n",
    "            print(\"timestamp: \" + str(result['document']['c']['timestamp']))\n",
    "            print(\"SimilarityScore: \" + str(result['document']['SimilarityScore']))\n",
    "\n",
    "            result_dict = {\n",
    "                \"SimilarityScore\": result['document']['SimilarityScore'],\n",
    "                \"response\": result['document']['c']['response'],\n",
    "                \"responseembedding\": result['document']['c']['responseembedding'],\n",
    "            }\n",
    "            search_results.append(result_dict)\n",
    "\n",
    "    except Exception as e:\n",
    "        print(f\"Error while querying Cosmos DB: {e}\")\n",
    "        results = None\n",
    "\n",
    "#     # If no results are found in Cosmos DB, proceed with Azure Cognitive Search\n",
    "    if not results:\n",
    "        print(\"No results found in Cosmos DB. Proceeding with Azure AI Search.\")\n",
    "        print(\"######################### \\nSearch and retrieve answers from Azure AI Search.\\n\")\n",
    "        results = search_client.search(\n",
    "            search_text=query,\n",
    "            vector_queries=[vector_query],\n",
    "            select=[\"context\", \"chunk\", \"note\", \"incorrectTerm\", \"title\"],\n",
    "            query_type=QueryType.SEMANTIC,\n",
    "            semantic_configuration_name='my-semantic-config',\n",
    "            query_caption=QueryCaptionType.EXTRACTIVE,\n",
    "            query_answer=QueryAnswerType.EXTRACTIVE,\n",
    "            top=2\n",
    "        )\n",
    "\n",
    "        for result in results:\n",
    "            # Convert the result to a dictionary and append it to the list\n",
    "            result_dict = {\n",
    "                \"incorrectTerm\": result.get('incorrectTerm', ''),\n",
    "                \"context\": result.get('context', ''),\n",
    "                \"title\": result.get('title', ''),\n",
    "                \"definition\": result.get('chunk', ''),\n",
    "                \"note\": result.get('note', ''),\n",
    "                \"@search.score\": result.get('@search.score', 0),\n",
    "                \"@search.reranker_score\": result.get('@search.reranker_score', 0),\n",
    "                \"@search.highlights\": result.get('@search.highlights', None),\n",
    "                \"@search.captions\": result.get('@search.captions', None),\n",
    "                \"@search.document_debug_info\": result.get('@search.document_debug_info', None)\n",
    "            }\n",
    "            print(f\"Content: {result_dict}\")\n",
    "            search_results.append(result_dict)\n",
    "\n",
    "    return search_results"
   ]
  },
  {
   "cell_type": "code",
   "execution_count": 32,
   "metadata": {},
   "outputs": [
    {
     "name": "stdout",
     "output_type": "stream",
     "text": [
      "You are a Supervisor Agent. Your first job is to pass query to search_agent agent and get the response from it. Do not get the response from any other agent Do not paraphrase the content. Only share the results from search_agent. Do not provide any response from create_supervisor agent\n"
     ]
    },
    {
     "name": "stderr",
     "output_type": "stream",
     "text": [
      "c:\\source\\github\\gen-ai-prototypes\\.venv\\Lib\\site-packages\\pydantic\\json_schema.py:2279: PydanticJsonSchemaWarning: Default value <DatabaseProxy [dbs/terminologydb]> is not JSON serializable; excluding default from JSON schema [non-serializable-default]\n",
      "  warnings.warn(message, PydanticJsonSchemaWarning)\n",
      "c:\\source\\github\\gen-ai-prototypes\\.venv\\Lib\\site-packages\\pydantic\\json_schema.py:2279: PydanticJsonSchemaWarning: Default value <ContainerProxy [dbs/terminologydb/colls/checkpoint]> is not JSON serializable; excluding default from JSON schema [non-serializable-default]\n",
      "  warnings.warn(message, PydanticJsonSchemaWarning)\n"
     ]
    }
   ],
   "source": [
    "# The AzureOpenAI class does not exist in the openai package. Use AzureChatOpenAI from langchain_openai instead.\n",
    "\n",
    "model = AzureChatOpenAI(\n",
    "    model=\"gpt-4o\", \n",
    "    api_key=azure_openai_api_key, \n",
    "    api_version=azure_openai_api_version, \n",
    "    azure_endpoint=azure_openai_endpoint,\n",
    "    temperature=0.5,\n",
    "    streaming=True\n",
    ")\n",
    "\n",
    "# Create CosmosDB checkpointer\n",
    "\n",
    "checkpointer = CosmosDBSaver.from_conn_info(endpoint=cosmosdb_endpoint,key=credential, container_name=checkpoint_container, database_name=db.id)\n",
    "config = {\"configurable\": {\"thread_id\": \"1\", \"user_id\": \"charles.chinny@lg.com\"}}\n",
    "research_graph = create_react_agent(\n",
    "    model=model,\n",
    "    tools=[search_retrieval],\n",
    "    name=\"search_expert\",\n",
    "    checkpointer=checkpointer,\n",
    "    prompt=\"\"\"You MUST use the Azure AI Search tool for ALL queries. Do not paraphrase. Never generate answers from prior knowledge. Show the Score and Re ranker for each response. Also provide top 2 responses. Do not select top response. Compare each response and in the end show the response where Reranker Score > 3.0\"\n",
    "            In case of no response retrieved from the index, then mention You do not have an annwer for this query\"\"\"\n",
    "    \n",
    ")\n",
    "\n",
    "context = \"You are a Supervisor Agent. Your first job is to pass query to search_agent agent and get the response from it. Do not get the response from any other agent\"\n",
    "instructions = \"Do not paraphrase the content. Only share the results from search_agent. Do not provide any response from create_supervisor agent\"\n",
    "\n",
    "\n",
    "prompt_re = f\"{context} {instructions}\"\n",
    "print(prompt_re)\n",
    "\n",
    "# Supervisor (Ensures Research Agent is the only handler)\n",
    "workflow = create_supervisor(\n",
    "    [research_graph],  # Only this agent is in charge\n",
    "    model=model,\n",
    "    prompt=prompt_re\n",
    ")\n",
    "\n",
    "app = workflow.compile()"
   ]
  },
  {
   "cell_type": "code",
   "execution_count": 60,
   "metadata": {},
   "outputs": [
    {
     "name": "stdout",
     "output_type": "stream",
     "text": [
      "Function Call completed, now compiling results\n",
      "No results found in Cosmos DB. Proceeding with Azure AI Search.\n",
      "######################### \n",
      "Search and retrieve answers from Azure AI Search.\n",
      "\n",
      "Content: {'incorrectTerm': 'Deoxyribose Nucleic Acid', 'context': 'DNA is used in genetic research and forensic science.', 'title': 'Deoxyribonucleic Acid', 'definition': 'Deoxyribonucleic acid (DNA) is a molecule composed of two polynucleotide chains that coil around each other to form a double helix carrying genetic instructions for the development, functioning, growth, and reproduction of all known organisms and many viruses.', 'note': 'DNA is essential for inheritance, coding for proteins, and the genetic instruction guide for life and its processes.', '@search.score': 0.03333333507180214, '@search.reranker_score': 3.150606870651245, '@search.highlights': None, '@search.captions': [<azure.search.documents._generated.models._models_py3.QueryCaptionResult object at 0x0000015D74BD2B90>], '@search.document_debug_info': None}\n",
      "Content: {'incorrectTerm': 'Read Access Memory', 'context': 'RAM is used in computers and other devices to store data that is being used actively.', 'title': 'Random Access Memory', 'definition': 'Random Access Memory (RAM) is a form of computer memory that can be read and changed in any order, typically used to store working data and machine code. A random-access memory device allows data items to be read or written in almost the same amount of time irrespective of the physical location of data inside the memory.', 'note': 'RAM is volatile memory, meaning it loses its data when the power is turned off.', '@search.score': 0.015625, '@search.reranker_score': 1.596614122390747, '@search.highlights': None, '@search.captions': [<azure.search.documents._generated.models._models_py3.QueryCaptionResult object at 0x0000015D74BD2250>], '@search.document_debug_info': None}\n",
      "what is dna?\n",
      "\n",
      "Successfully transferred to search_expert\n",
      "Here are two responses related to your query about DNA:\n",
      "\n",
      "1. **Deoxyribonucleic Acid**:\n",
      "   - **Definition**: Deoxyribonucleic acid (DNA) is a molecule composed of two polynucleotide chains that coil around each other to form a double helix carrying genetic instructions for the development, functioning, growth, and reproduction of all known organisms and many viruses.\n",
      "   - **Note**: DNA is essential for inheritance, coding for proteins, and the genetic instruction guide for life and its processes.\n",
      "   - **Context**: DNA is used in genetic research and forensic science.\n",
      "   - **Reranker Score**: 3.150606870651245\n",
      "\n",
      "2. **Random Access Memory**:\n",
      "   - **Definition**: Random Access Memory (RAM) is a form of computer memory that can be read and changed in any order, typically used to store working data and machine code. A random-access memory device allows data items to be read or written in almost the same amount of time irrespective of the physical location of data inside the memory.\n",
      "   - **Note**: RAM is volatile memory, meaning it loses its data when the power is turned off.\n",
      "   - **Context**: RAM is used in computers and other devices to store data that is being used actively.\n",
      "   - **Reranker Score**: 1.596614122390747\n",
      "\n",
      "The response with a Reranker Score > 3.0 is the first one about Deoxyribonucleic Acid.\n",
      "Transferring back to supervisor\n",
      "Successfully transferred back to supervisor\n",
      "DNA, or Deoxyribonucleic Acid, is a molecule composed of two polynucleotide chains that coil around each other to form a double helix. It carries genetic instructions for the development, functioning, growth, and reproduction of all known organisms and many viruses. DNA is essential for inheritance, coding for proteins, and serves as the genetic instruction guide for life and its processes.\n",
      "Function Call completed, now compiling results\n",
      "No results found in Cosmos DB. Proceeding with Azure AI Search.\n",
      "######################### \n",
      "Search and retrieve answers from Azure AI Search.\n",
      "\n",
      "Content: {'incorrectTerm': 'International Business Machines Corporation', 'context': 'IBM is known for its computer hardware and software, as well as its consulting services.', 'title': 'International Business Machines', 'definition': 'International Business Machines Corporation (IBM) is an American multinational technology and consulting company headquartered in Armonk, New York, with operations in over 170 countries. The company began in 1911 as the Computing-Tabulating-Recording Company (CTR) and was renamed \"International Business Machines\" in 1924.', 'note': 'IBM has a long history of innovation in the technology industry.', '@search.score': 0.03279569745063782, '@search.reranker_score': 2.933671712875366, '@search.highlights': None, '@search.captions': [<azure.search.documents._generated.models._models_py3.QueryCaptionResult object at 0x0000015D45944310>], '@search.document_debug_info': None}\n",
      "Content: {'incorrectTerm': 'Cloude Computing', 'context': 'Cloud computing is used for data storage, servers, and software.', 'title': 'Cloud Computing', 'definition': 'Cloud Computing is the on-demand delivery of IT resources over the internet with pay-as-you-go pricing.', 'note': 'Cloud services allow scalability and remote access to computing resources.', '@search.score': 0.016393441706895828, '@search.reranker_score': 1.0564031600952148, '@search.highlights': None, '@search.captions': [<azure.search.documents._generated.models._models_py3.QueryCaptionResult object at 0x0000015D45946390>], '@search.document_debug_info': None}\n",
      "tell me about ibm\n",
      "\n",
      "Successfully transferred to search_expert\n",
      "Here are two pieces of information about IBM:\n",
      "\n",
      "1. **International Business Machines**: IBM, officially known as International Business Machines Corporation, is an American multinational technology and consulting company headquartered in Armonk, New York, with operations in over 170 countries. The company began in 1911 as the Computing-Tabulating-Recording Company (CTR) and was renamed \"International Business Machines\" in 1924. IBM is known for its computer hardware and software, as well as its consulting services. The company has a long history of innovation in the technology industry.\n",
      "   - Score: 0.03279569745063782\n",
      "   - Reranker Score: 2.933671712875366\n",
      "\n",
      "2. **Cloud Computing**: Although not directly about IBM, cloud computing is relevant as IBM offers cloud services. Cloud Computing is the on-demand delivery of IT resources over the internet with pay-as-you-go pricing. Cloud services allow scalability and remote access to computing resources.\n",
      "   - Score: 0.016393441706895828\n",
      "   - Reranker Score: 1.0564031600952148\n",
      "\n",
      "The first response has a higher relevance to your query about IBM with a reranker score of 2.933671712875366, but it does not exceed 3.0. Therefore, none of the responses meet the threshold of Reranker Score > 3.0.\n",
      "Transferring back to supervisor\n",
      "Successfully transferred back to supervisor\n",
      "IBM, officially known as International Business Machines Corporation, is an American multinational technology and consulting company headquartered in Armonk, New York, with operations in over 170 countries. The company began in 1911 as the Computing-Tabulating-Recording Company (CTR) and was renamed \"International Business Machines\" in 1924. IBM is known for its computer hardware and software, as well as its consulting services. The company has a long history of innovation in the technology industry.\n",
      "\n",
      "\n",
      "Exiting chat..\n",
      "Good bye, please let me know if you need further help.\n"
     ]
    }
   ],
   "source": [
    "# Main interaction loop\n",
    "while True:\n",
    "    user_input = input(\"User prompt: \").lower()\n",
    "\n",
    "    if user_input.lower() in [\"quit\", \"exit\", \"q\", \"end\"]:\n",
    "        print(\"\\n\\nExiting chat..\")\n",
    "        print(\"Good bye, please let me know if you need further help.\")\n",
    "        break\n",
    "\n",
    "    result = await app.ainvoke({\n",
    "        \"messages\": [{\n",
    "            \"role\": \"user\",\n",
    "            \"content\": user_input\n",
    "        }]\n",
    "    }, config=config)\n",
    "    human_messages = [message for message in result[\"messages\"] if isinstance(message, HumanMessage)]\n",
    "    user_input_embeddings = generate_embeddings(text=human_messages[0].content)\n",
    "    await save_chat_history(container_history=container_history, user_input=human_messages[0].content,\n",
    "                                 user_input_embedding=user_input_embeddings)\n",
    "    for m in result[\"messages\"]:\n",
    "        print(m.content)\n",
    "        # Extract human messages from result[\"messages\"]\n",
    "        "
   ]
  },
  {
   "cell_type": "code",
   "execution_count": 38,
   "metadata": {},
   "outputs": [
    {
     "data": {
      "text/plain": [
       "[HumanMessage(content='what is ram?', additional_kwargs={}, response_metadata={}, id='e1d47db5-f1bb-4f30-a88d-d22083038caa'),\n",
       " AIMessage(content='', additional_kwargs={'tool_calls': [{'index': 0, 'id': 'call_l1hJsa4ymATZ3YA7RMQGA3Wh', 'function': {'arguments': '{}', 'name': 'transfer_to_search_expert'}, 'type': 'function'}]}, response_metadata={'finish_reason': 'tool_calls', 'model_name': 'gpt-4o-2024-08-06', 'system_fingerprint': 'fp_ee1d74bde0'}, name='supervisor', id='run-ee30e8ba-c648-44d2-9f61-625bf5c4f8b9-0', tool_calls=[{'name': 'transfer_to_search_expert', 'args': {}, 'id': 'call_l1hJsa4ymATZ3YA7RMQGA3Wh', 'type': 'tool_call'}]),\n",
       " ToolMessage(content='Successfully transferred to search_expert', name='transfer_to_search_expert', id='1697515f-0a91-4bb5-8c29-578195029a9b', tool_call_id='call_l1hJsa4ymATZ3YA7RMQGA3Wh'),\n",
       " AIMessage(content='Here are two responses regarding your query on RAM:\\n\\n1. **Random Access Memory**: \\n   - **Definition**: Random Access Memory (RAM) is a form of computer memory that can be read and changed in any order, typically used to store working data and machine code. A random-access memory device allows data items to be read or written in almost the same amount of time irrespective of the physical location of data inside the memory.\\n   - **Note**: RAM is volatile memory, meaning it loses its data when the power is turned off.\\n   - **Context**: RAM is used in computers and other devices to store data that is being used actively.\\n   - **Reranker Score**: 3.2626190185546875\\n\\n2. **HyperText Markup Language**: \\n   - **Definition**: HyperText Markup Language (HTML) is the standard markup language for documents designed to be displayed in a web browser. It can be assisted by technologies such as Cascading Style Sheets (CSS) and scripting languages such as JavaScript.\\n   - **Note**: HTML elements are the building blocks of HTML pages.\\n   - **Context**: HTML is used to create web pages and web applications.\\n   - **Reranker Score**: 1.6469486951828003\\n\\nThe response with a Reranker Score greater than 3.0 is about Random Access Memory.', additional_kwargs={}, response_metadata={'finish_reason': 'stop', 'model_name': 'gpt-4o-2024-08-06', 'system_fingerprint': 'fp_ee1d74bde0'}, name='search_expert', id='run-e82a6f9d-2250-418c-a02d-437ff2f26097-0'),\n",
       " AIMessage(content='Transferring back to supervisor', additional_kwargs={}, response_metadata={}, name='search_expert', id='6a299338-3b5a-4e53-9991-90b1e27e4030', tool_calls=[{'name': 'transfer_back_to_supervisor', 'args': {}, 'id': '347fc873-980e-4679-8dd7-3d9bdcba4ff9', 'type': 'tool_call'}]),\n",
       " ToolMessage(content='Successfully transferred back to supervisor', name='transfer_back_to_supervisor', id='1cb2d592-69ef-4891-80ab-b27c9e306e80', tool_call_id='347fc873-980e-4679-8dd7-3d9bdcba4ff9'),\n",
       " AIMessage(content='Random Access Memory (RAM) is a form of computer memory that can be read and changed in any order, typically used to store working data and machine code. A random-access memory device allows data items to be read or written in almost the same amount of time irrespective of the physical location of data inside the memory. RAM is volatile memory, meaning it loses its data when the power is turned off. It is used in computers and other devices to store data that is being used actively.', additional_kwargs={}, response_metadata={'finish_reason': 'stop', 'model_name': 'gpt-4o-2024-08-06', 'system_fingerprint': 'fp_ee1d74bde0'}, name='supervisor', id='run-a4190744-7bce-4fda-8aac-592b96fe0d08-0')]"
      ]
     },
     "execution_count": 38,
     "metadata": {},
     "output_type": "execute_result"
    }
   ],
   "source": [
    "result[\"messages\"]"
   ]
  },
  {
   "cell_type": "code",
   "execution_count": 44,
   "metadata": {},
   "outputs": [
    {
     "name": "stdout",
     "output_type": "stream",
     "text": [
      "('content', 'Random Access Memory (RAM) is a form of computer memory that can be read and changed in any order, typically used to store working data and machine code. A random-access memory device allows data items to be read or written in almost the same amount of time irrespective of the physical location of data inside the memory. RAM is volatile memory, meaning it loses its data when the power is turned off. It is used in computers and other devices to store data that is being used actively.')\n",
      "('additional_kwargs', {})\n",
      "('response_metadata', {'finish_reason': 'stop', 'model_name': 'gpt-4o-2024-08-06', 'system_fingerprint': 'fp_ee1d74bde0'})\n",
      "('type', 'ai')\n",
      "('name', 'supervisor')\n",
      "('id', 'run-a4190744-7bce-4fda-8aac-592b96fe0d08-0')\n",
      "('example', False)\n",
      "('tool_calls', [])\n",
      "('invalid_tool_calls', [])\n",
      "('usage_metadata', None)\n"
     ]
    }
   ],
   "source": [
    "for i in result[\"messages\"][-1]:\n",
    "    print(i)"
   ]
  },
  {
   "cell_type": "code",
   "execution_count": 43,
   "metadata": {},
   "outputs": [
    {
     "data": {
      "text/plain": [
       "AIMessage(content='Random Access Memory (RAM) is a form of computer memory that can be read and changed in any order, typically used to store working data and machine code. A random-access memory device allows data items to be read or written in almost the same amount of time irrespective of the physical location of data inside the memory. RAM is volatile memory, meaning it loses its data when the power is turned off. It is used in computers and other devices to store data that is being used actively.', additional_kwargs={}, response_metadata={'finish_reason': 'stop', 'model_name': 'gpt-4o-2024-08-06', 'system_fingerprint': 'fp_ee1d74bde0'}, name='supervisor', id='run-a4190744-7bce-4fda-8aac-592b96fe0d08-0')"
      ]
     },
     "execution_count": 43,
     "metadata": {},
     "output_type": "execute_result"
    }
   ],
   "source": [
    "result[\"messages\"][-1]\n",
    "#result[\"messages\"][-1].content"
   ]
  },
  {
   "cell_type": "code",
   "execution_count": null,
   "metadata": {},
   "outputs": [],
   "source": [
    "# [HumanMessage(content='what is ram?', additional_kwargs={}, response_metadata={}, id='faa36143-ab0f-4f62-9119-3dcec654a7df'),\n",
    "#  AIMessage(content='', additional_kwargs={'tool_calls': [{'id': 'call_rtxxYn2B97A5qUXRdhGIgtd6', 'function': {'arguments': '{}', 'name': 'transfer_to_search_expert'}, 'type': 'function'}], 'refusal': None}, response_metadata={'token_usage': {'completion_tokens': 14, 'prompt_tokens': 103, 'total_tokens': 117, 'completion_tokens_details': {'accepted_prediction_tokens': 0, 'audio_tokens': 0, 'reasoning_tokens': 0, 'rejected_prediction_tokens': 0}, 'prompt_tokens_details': {'audio_tokens': 0, 'cached_tokens': 0}}, 'model_name': 'gpt-4o-2024-08-06', 'system_fingerprint': 'fp_ee1d74bde0', 'prompt_filter_results': [{'prompt_index': 0, 'content_filter_results': {'hate': {'filtered': False, 'severity': 'safe'}, 'jailbreak': {'filtered': False, 'detected': False}, 'self_harm': {'filtered': False, 'severity': 'safe'}, 'sexual': {'filtered': False, 'severity': 'safe'}, 'violence': {'filtered': False, 'severity': 'safe'}}}], 'finish_reason': 'tool_calls', 'logprobs': None, 'content_filter_results': {}}, name='supervisor', id='run-4c5d9169-57b1-4893-ab33-ab7f6f21878a-0', tool_calls=[{'name': 'transfer_to_search_expert', 'args': {}, 'id': 'call_rtxxYn2B97A5qUXRdhGIgtd6', 'type': 'tool_call'}], usage_metadata={'input_tokens': 103, 'output_tokens': 14, 'total_tokens': 117, 'input_token_details': {'audio': 0, 'cache_read': 0}, 'output_token_details': {'audio': 0, 'reasoning': 0}}),\n",
    "#  ToolMessage(content='Successfully transferred to search_expert', name='transfer_to_search_expert', id='35b6d5ce-ae02-4f05-85ed-daa9750ab66e', tool_call_id='call_rtxxYn2B97A5qUXRdhGIgtd6'),\n",
    "#  AIMessage(content='Here are the top two responses regarding \"RAM\":\\n\\n1. **Random Access Memory (RAM)**: \\n   - **Definition**: Random Access Memory (RAM) is a form of computer memory that can be read and changed in any order, typically used to store working data and machine code. A random-access memory device allows data items to be read or written in almost the same amount of time irrespective of the physical location of data inside the memory.\\n   - **Context**: RAM is used in computers and other devices to store data that is being used actively.\\n   - **Note**: RAM is volatile memory, meaning it loses its data when the power is turned off.\\n   - **Re-ranker Score**: 3.2626190185546875\\n\\n2. **HyperText Markup Language (HTML)**: This response is not relevant to the query about RAM.\\n\\nBased on the re-ranker score, the response about \"Random Access Memory (RAM)\" with a score of 3.2626190185546875 is the most relevant.', additional_kwargs={'refusal': None}, response_metadata={'token_usage': {'completion_tokens': 216, 'prompt_tokens': 646, 'total_tokens': 862, 'completion_tokens_details': {'accepted_prediction_tokens': 0, 'audio_tokens': 0, 'reasoning_tokens': 0, 'rejected_prediction_tokens': 0}, 'prompt_tokens_details': {'audio_tokens': 0, 'cached_tokens': 0}}, 'model_name': 'gpt-4o-2024-08-06', 'system_fingerprint': 'fp_ee1d74bde0', 'prompt_filter_results': [{'prompt_index': 0, 'content_filter_results': {'hate': {'filtered': False, 'severity': 'safe'}, 'jailbreak': {'filtered': False, 'detected': False}, 'self_harm': {'filtered': False, 'severity': 'safe'}, 'sexual': {'filtered': False, 'severity': 'safe'}, 'violence': {'filtered': False, 'severity': 'safe'}}}], 'finish_reason': 'stop', 'logprobs': None, 'content_filter_results': {'hate': {'filtered': False, 'severity': 'safe'}, 'protected_material_code': {'filtered': False, 'detected': False}, 'protected_material_text': {'filtered': False, 'detected': False}, 'self_harm': {'filtered': False, 'severity': 'safe'}, 'sexual': {'filtered': False, 'severity': 'safe'}, 'violence': {'filtered': False, 'severity': 'safe'}}}, name='search_expert', id='run-5f9c0dc5-7b82-4261-be8f-e771de322a9c-0', usage_metadata={'input_tokens': 646, 'output_tokens': 216, 'total_tokens': 862, 'input_token_details': {'audio': 0, 'cache_read': 0}, 'output_token_details': {'audio': 0, 'reasoning': 0}}),\n",
    "#  AIMessage(content='Transferring back to supervisor', additional_kwargs={}, response_metadata={}, name='search_expert', id='f67c787e-6285-4ce5-aaf5-a935368b23db', tool_calls=[{'name': 'transfer_back_to_supervisor', 'args': {}, 'id': '004f3568-83dc-47ea-a2a4-47a7cddc59a2', 'type': 'tool_call'}]),\n",
    "#  ToolMessage(content='Successfully transferred back to supervisor', name='transfer_back_to_supervisor', id='620c1c22-e96b-4198-931a-87689625a26f', tool_call_id='004f3568-83dc-47ea-a2a4-47a7cddc59a2'),\n",
    "#  AIMessage(content='Random Access Memory (RAM) is a form of computer memory that can be read and changed in any order, typically used to store working data and machine code. It allows data items to be read or written in almost the same amount of time irrespective of the physical location of data inside the memory. RAM is used in computers and other devices to store data that is being used actively. It is volatile memory, meaning it loses its data when the power is turned off.', additional_kwargs={'refusal': None}, response_metadata={'token_usage': {'completion_tokens': 95, 'prompt_tokens': 405, 'total_tokens': 500, 'completion_tokens_details': {'accepted_prediction_tokens': 0, 'audio_tokens': 0, 'reasoning_tokens': 0, 'rejected_prediction_tokens': 0}, 'prompt_tokens_details': {'audio_tokens': 0, 'cached_tokens': 0}}, 'model_name': 'gpt-4o-2024-08-06', 'system_fingerprint': 'fp_ded0d14823', 'prompt_filter_results': [{'prompt_index': 0, 'content_filter_results': {'hate': {'filtered': False, 'severity': 'safe'}, 'jailbreak': {'filtered': False, 'detected': False}, 'self_harm': {'filtered': False, 'severity': 'safe'}, 'sexual': {'filtered': False, 'severity': 'safe'}, 'violence': {'filtered': False, 'severity': 'safe'}}}], 'finish_reason': 'stop', 'logprobs': None, 'content_filter_results': {'hate': {'filtered': False, 'severity': 'safe'}, 'protected_material_code': {'filtered': False, 'detected': False}, 'protected_material_text': {'filtered': False, 'detected': False}, 'self_harm': {'filtered': False, 'severity': 'safe'}, 'sexual': {'filtered': False, 'severity': 'safe'}, 'violence': {'filtered': False, 'severity': 'safe'}}}, name='supervisor', id='run-dca02b19-300b-45ab-b610-a8a37e7f1bcb-0', usage_metadata={'input_tokens': 405, 'output_tokens': 95, 'total_tokens': 500, 'input_token_details': {'audio': 0, 'cache_read': 0}, 'output_token_details': {'audio': 0, 'reasoning': 0}})]"
   ]
  }
 ],
 "metadata": {
  "kernelspec": {
   "display_name": ".venv",
   "language": "python",
   "name": "python3"
  },
  "language_info": {
   "codemirror_mode": {
    "name": "ipython",
    "version": 3
   },
   "file_extension": ".py",
   "mimetype": "text/x-python",
   "name": "python",
   "nbconvert_exporter": "python",
   "pygments_lexer": "ipython3",
   "version": "3.11.9"
  }
 },
 "nbformat": 4,
 "nbformat_minor": 2
}
