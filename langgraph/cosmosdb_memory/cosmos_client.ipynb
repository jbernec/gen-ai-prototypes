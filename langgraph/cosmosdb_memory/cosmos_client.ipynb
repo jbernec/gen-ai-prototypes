{
 "cells": [
  {
   "cell_type": "code",
   "execution_count": null,
   "metadata": {},
   "outputs": [],
   "source": [
    "# Basic example using simple graph and a CosmosDB checkpointer\n",
    "from langgraph.graph import StateGraph, START, END\n",
    "from azure.cosmos import CosmosClient, exceptions, PartitionKey\n",
    "from azure.keyvault.secrets import SecretClient\n",
    "import os\n",
    "from azure.identity import DefaultAzureCredential\n",
    "\n",
    "\n",
    "try:\n",
    "    keyVaultName = os.environ[\"KEY_VAULT_NAME\"]\n",
    "except KeyError:\n",
    "    # Get input from user if not set\n",
    "    keyVaultName = input(\"Please enter your Key Vault name: \")\n",
    "    # Save for future cells in this session\n",
    "    os.environ[\"KEY_VAULT_NAME\"] = keyVaultName\n",
    "\n",
    "\n",
    "keyVaultName = os.environ[\"KEY_VAULT_NAME\"]\n",
    "KVUri = f\"https://{keyVaultName}.vault.azure.net\"\n",
    "\n",
    "credential = DefaultAzureCredential()\n",
    "client = SecretClient(vault_url=KVUri, credential=credential)\n",
    "\n",
    "cosmosdb_endpoint=client.get_secret(name=\"cosmosdb-url\").value\n",
    "cosmosdb_key = client.get_secret(name=\"cosmosdb-key\").value\n",
    "\n",
    "# Service principal authentication variables\n",
    "tenant_id=client.get_secret(name=\"tenantid\").value\n",
    "client_id =client.get_secret(name=\"clientid\").value \n",
    "client_secret =client.get_secret(name=\"clientsecret\").value\n",
    "conn_str =client.get_secret(name=\"cosmosdb-connstr\").value\n",
    "#credential = azure.identity.ClientSecretCredential(tenant_id=tenant_id, client_id=client_id, client_secret=client_secret)\n",
    "credential = DefaultAzureCredential()\n",
    "\n",
    "cosmos_client = CosmosClient(\n",
    "                        url=cosmosdb_endpoint,\n",
    "                        credential=credential,\n",
    "                    )"
   ]
  },
  {
   "cell_type": "code",
   "execution_count": 2,
   "metadata": {},
   "outputs": [
    {
     "data": {
      "text/plain": [
       "<CosmosClient [https://cosmosdb03.documents.azure.com:443/]>"
      ]
     },
     "execution_count": 2,
     "metadata": {},
     "output_type": "execute_result"
    }
   ],
   "source": [
    "cosmos_client"
   ]
  },
  {
   "cell_type": "code",
   "execution_count": 4,
   "metadata": {},
   "outputs": [],
   "source": [
    "conn_str =client.get_secret(name=\"cosmosdb-connstr\").value"
   ]
  },
  {
   "cell_type": "code",
   "execution_count": 13,
   "metadata": {},
   "outputs": [
    {
     "ename": "CosmosHttpResponseError",
     "evalue": "(Forbidden) Request blocked by Auth cosmosdb03 : Request for Read DatabaseAccount is blocked because principal [12ed081e-1fa0-47dd-a062-15019ba2cad3] does not have required RBAC permissions to perform action [Microsoft.DocumentDB/databaseAccounts/sqlDatabases/write] on any scope. Learn more: https://aka.ms/cosmos-native-rbac.\r\nActivityId: 3a5d837d-6669-4006-8a42-2de83d516061, Microsoft.Azure.Documents.Common/2.14.0\nCode: Forbidden\nMessage: Request blocked by Auth cosmosdb03 : Request for Read DatabaseAccount is blocked because principal [12ed081e-1fa0-47dd-a062-15019ba2cad3] does not have required RBAC permissions to perform action [Microsoft.DocumentDB/databaseAccounts/sqlDatabases/write] on any scope. Learn more: https://aka.ms/cosmos-native-rbac.\r\nActivityId: 3a5d837d-6669-4006-8a42-2de83d516061, Microsoft.Azure.Documents.Common/2.14.0",
     "output_type": "error",
     "traceback": [
      "\u001b[31m---------------------------------------------------------------------------\u001b[39m",
      "\u001b[31mCosmosHttpResponseError\u001b[39m                   Traceback (most recent call last)",
      "\u001b[36mCell\u001b[39m\u001b[36m \u001b[39m\u001b[32mIn[13]\u001b[39m\u001b[32m, line 3\u001b[39m\n\u001b[32m      1\u001b[39m \u001b[38;5;28;01mfrom\u001b[39;00m\u001b[38;5;250m \u001b[39m\u001b[34;01mcosmosdb_handler\u001b[39;00m\u001b[38;5;250m \u001b[39m\u001b[38;5;28;01mimport\u001b[39;00m CosmosDBHandler\n\u001b[32m----> \u001b[39m\u001b[32m3\u001b[39m \u001b[43mCosmosDBHandler\u001b[49m\u001b[43m(\u001b[49m\u001b[43mendpoint\u001b[49m\u001b[43m=\u001b[49m\u001b[43mcosmosdb_endpoint\u001b[49m\u001b[43m,\u001b[49m\u001b[43m \u001b[49m\u001b[43mcredential\u001b[49m\u001b[43m=\u001b[49m\u001b[43mcredential\u001b[49m\u001b[43m,\u001b[49m\u001b[43m \u001b[49m\u001b[43mdatabase_name\u001b[49m\u001b[43m=\u001b[49m\u001b[33;43m\"\u001b[39;49m\u001b[33;43mterminologydb\u001b[39;49m\u001b[33;43m\"\u001b[39;49m\u001b[43m,\u001b[49m\u001b[43m \u001b[49m\u001b[43mcollection\u001b[49m\u001b[43m=\u001b[49m\u001b[33;43m\"\u001b[39;49m\u001b[33;43mterminology\u001b[39;49m\u001b[33;43m\"\u001b[39;49m\u001b[43m)\u001b[49m\n",
      "\u001b[36mFile \u001b[39m\u001b[32mc:\\source\\github\\gen-ai-prototypes\\langgraph\\cosmosdb_handler.py:16\u001b[39m, in \u001b[36mCosmosDBHandler.__init__\u001b[39m\u001b[34m(self, endpoint, credential, database_name, collection)\u001b[39m\n\u001b[32m     13\u001b[39m \u001b[38;5;28mself\u001b[39m.container_name = collection\n\u001b[32m     15\u001b[39m \u001b[38;5;28;01mtry\u001b[39;00m:\n\u001b[32m---> \u001b[39m\u001b[32m16\u001b[39m     \u001b[38;5;28mself\u001b[39m.database = \u001b[38;5;28;43mself\u001b[39;49m\u001b[43m.\u001b[49m\u001b[43mclient\u001b[49m\u001b[43m.\u001b[49m\u001b[43mcreate_database\u001b[49m\u001b[43m(\u001b[49m\u001b[38;5;28;43mself\u001b[39;49m\u001b[43m.\u001b[49m\u001b[43mdatabase_name\u001b[49m\u001b[43m)\u001b[49m\n\u001b[32m     17\u001b[39m \u001b[38;5;28;01mexcept\u001b[39;00m exceptions.CosmosResourceExistsError:\n\u001b[32m     18\u001b[39m     \u001b[38;5;28mself\u001b[39m.database = \u001b[38;5;28mself\u001b[39m.client.get_database_client(\u001b[38;5;28mself\u001b[39m.database_name)\n",
      "\u001b[36mFile \u001b[39m\u001b[32mc:\\source\\github\\gen-ai-prototypes\\.venv\\Lib\\site-packages\\azure\\core\\tracing\\decorator.py:105\u001b[39m, in \u001b[36mdistributed_trace.<locals>.decorator.<locals>.wrapper_use_tracer\u001b[39m\u001b[34m(*args, **kwargs)\u001b[39m\n\u001b[32m    103\u001b[39m span_impl_type = settings.tracing_implementation()\n\u001b[32m    104\u001b[39m \u001b[38;5;28;01mif\u001b[39;00m span_impl_type \u001b[38;5;129;01mis\u001b[39;00m \u001b[38;5;28;01mNone\u001b[39;00m:\n\u001b[32m--> \u001b[39m\u001b[32m105\u001b[39m     \u001b[38;5;28;01mreturn\u001b[39;00m \u001b[43mfunc\u001b[49m\u001b[43m(\u001b[49m\u001b[43m*\u001b[49m\u001b[43margs\u001b[49m\u001b[43m,\u001b[49m\u001b[43m \u001b[49m\u001b[43m*\u001b[49m\u001b[43m*\u001b[49m\u001b[43mkwargs\u001b[49m\u001b[43m)\u001b[49m\n\u001b[32m    107\u001b[39m \u001b[38;5;66;03m# Merge span is parameter is set, but only if no explicit parent are passed\u001b[39;00m\n\u001b[32m    108\u001b[39m \u001b[38;5;28;01mif\u001b[39;00m merge_span \u001b[38;5;129;01mand\u001b[39;00m \u001b[38;5;129;01mnot\u001b[39;00m passed_in_parent:\n",
      "\u001b[36mFile \u001b[39m\u001b[32mc:\\source\\github\\gen-ai-prototypes\\.venv\\Lib\\site-packages\\azure\\cosmos\\cosmos_client.py:304\u001b[39m, in \u001b[36mCosmosClient.create_database\u001b[39m\u001b[34m(self, id, populate_query_metrics, offer_throughput, session_token, initial_headers, etag, match_condition, **kwargs)\u001b[39m\n\u001b[32m    301\u001b[39m     request_options[\u001b[33m\"\u001b[39m\u001b[33mpopulateQueryMetrics\u001b[39m\u001b[33m\"\u001b[39m] = populate_query_metrics\n\u001b[32m    303\u001b[39m _set_throughput_options(offer=offer_throughput, request_options=request_options)\n\u001b[32m--> \u001b[39m\u001b[32m304\u001b[39m result = \u001b[38;5;28;43mself\u001b[39;49m\u001b[43m.\u001b[49m\u001b[43mclient_connection\u001b[49m\u001b[43m.\u001b[49m\u001b[43mCreateDatabase\u001b[49m\u001b[43m(\u001b[49m\u001b[43mdatabase\u001b[49m\u001b[43m=\u001b[49m\u001b[43m{\u001b[49m\u001b[33;43m\"\u001b[39;49m\u001b[33;43mid\u001b[39;49m\u001b[33;43m\"\u001b[39;49m\u001b[43m:\u001b[49m\u001b[43m \u001b[49m\u001b[38;5;28;43mid\u001b[39;49m\u001b[43m}\u001b[49m\u001b[43m,\u001b[49m\u001b[43m \u001b[49m\u001b[43moptions\u001b[49m\u001b[43m=\u001b[49m\u001b[43mrequest_options\u001b[49m\u001b[43m,\u001b[49m\u001b[43m \u001b[49m\u001b[43m*\u001b[49m\u001b[43m*\u001b[49m\u001b[43mkwargs\u001b[49m\u001b[43m)\u001b[49m\n\u001b[32m    305\u001b[39m \u001b[38;5;28;01mif\u001b[39;00m response_hook:\n\u001b[32m    306\u001b[39m     response_hook(\u001b[38;5;28mself\u001b[39m.client_connection.last_response_headers)\n",
      "\u001b[36mFile \u001b[39m\u001b[32mc:\\source\\github\\gen-ai-prototypes\\.venv\\Lib\\site-packages\\azure\\cosmos\\_cosmos_client_connection.py:348\u001b[39m, in \u001b[36mCosmosClientConnection.CreateDatabase\u001b[39m\u001b[34m(self, database, options, **kwargs)\u001b[39m\n\u001b[32m    346\u001b[39m base._validate_resource(database)\n\u001b[32m    347\u001b[39m path = \u001b[33m\"\u001b[39m\u001b[33m/dbs\u001b[39m\u001b[33m\"\u001b[39m\n\u001b[32m--> \u001b[39m\u001b[32m348\u001b[39m \u001b[38;5;28;01mreturn\u001b[39;00m \u001b[38;5;28;43mself\u001b[39;49m\u001b[43m.\u001b[49m\u001b[43mCreate\u001b[49m\u001b[43m(\u001b[49m\u001b[43mdatabase\u001b[49m\u001b[43m,\u001b[49m\u001b[43m \u001b[49m\u001b[43mpath\u001b[49m\u001b[43m,\u001b[49m\u001b[43m \u001b[49m\u001b[33;43m\"\u001b[39;49m\u001b[33;43mdbs\u001b[39;49m\u001b[33;43m\"\u001b[39;49m\u001b[43m,\u001b[49m\u001b[43m \u001b[49m\u001b[38;5;28;43;01mNone\u001b[39;49;00m\u001b[43m,\u001b[49m\u001b[43m \u001b[49m\u001b[38;5;28;43;01mNone\u001b[39;49;00m\u001b[43m,\u001b[49m\u001b[43m \u001b[49m\u001b[43moptions\u001b[49m\u001b[43m,\u001b[49m\u001b[43m \u001b[49m\u001b[43m*\u001b[49m\u001b[43m*\u001b[49m\u001b[43mkwargs\u001b[49m\u001b[43m)\u001b[49m\n",
      "\u001b[36mFile \u001b[39m\u001b[32mc:\\source\\github\\gen-ai-prototypes\\.venv\\Lib\\site-packages\\azure\\cosmos\\_cosmos_client_connection.py:2592\u001b[39m, in \u001b[36mCosmosClientConnection.Create\u001b[39m\u001b[34m(self, body, path, typ, id, initial_headers, options, **kwargs)\u001b[39m\n\u001b[32m   2589\u001b[39m \u001b[38;5;66;03m# Create will use WriteEndpoint since it uses POST operation\u001b[39;00m\n\u001b[32m   2591\u001b[39m request_params = RequestObject(typ, documents._OperationType.Create)\n\u001b[32m-> \u001b[39m\u001b[32m2592\u001b[39m result, last_response_headers = \u001b[38;5;28;43mself\u001b[39;49m\u001b[43m.\u001b[49m\u001b[43m__Post\u001b[49m\u001b[43m(\u001b[49m\u001b[43mpath\u001b[49m\u001b[43m,\u001b[49m\u001b[43m \u001b[49m\u001b[43mrequest_params\u001b[49m\u001b[43m,\u001b[49m\u001b[43m \u001b[49m\u001b[43mbody\u001b[49m\u001b[43m,\u001b[49m\u001b[43m \u001b[49m\u001b[43mheaders\u001b[49m\u001b[43m,\u001b[49m\u001b[43m \u001b[49m\u001b[43m*\u001b[49m\u001b[43m*\u001b[49m\u001b[43mkwargs\u001b[49m\u001b[43m)\u001b[49m\n\u001b[32m   2593\u001b[39m \u001b[38;5;28mself\u001b[39m.last_response_headers = last_response_headers\n\u001b[32m   2595\u001b[39m \u001b[38;5;66;03m# update session for write request\u001b[39;00m\n",
      "\u001b[36mFile \u001b[39m\u001b[32mc:\\source\\github\\gen-ai-prototypes\\.venv\\Lib\\site-packages\\azure\\cosmos\\_cosmos_client_connection.py:2811\u001b[39m, in \u001b[36mCosmosClientConnection.__Post\u001b[39m\u001b[34m(self, path, request_params, body, req_headers, **kwargs)\u001b[39m\n\u001b[32m   2801\u001b[39m \u001b[38;5;250m\u001b[39m\u001b[33;03m\"\"\"Azure Cosmos 'POST' http request.\u001b[39;00m\n\u001b[32m   2802\u001b[39m \n\u001b[32m   2803\u001b[39m \u001b[33;03m:param str path: the url to be used for the request.\u001b[39;00m\n\u001b[32m   (...)\u001b[39m\u001b[32m   2808\u001b[39m \u001b[33;03m:rtype: tuple of (dict, dict)\u001b[39;00m\n\u001b[32m   2809\u001b[39m \u001b[33;03m\"\"\"\u001b[39;00m\n\u001b[32m   2810\u001b[39m request = \u001b[38;5;28mself\u001b[39m.pipeline_client.post(url=path, headers=req_headers)\n\u001b[32m-> \u001b[39m\u001b[32m2811\u001b[39m \u001b[38;5;28;01mreturn\u001b[39;00m \u001b[43msynchronized_request\u001b[49m\u001b[43m.\u001b[49m\u001b[43mSynchronizedRequest\u001b[49m\u001b[43m(\u001b[49m\n\u001b[32m   2812\u001b[39m \u001b[43m    \u001b[49m\u001b[43mclient\u001b[49m\u001b[43m=\u001b[49m\u001b[38;5;28;43mself\u001b[39;49m\u001b[43m,\u001b[49m\n\u001b[32m   2813\u001b[39m \u001b[43m    \u001b[49m\u001b[43mrequest_params\u001b[49m\u001b[43m=\u001b[49m\u001b[43mrequest_params\u001b[49m\u001b[43m,\u001b[49m\n\u001b[32m   2814\u001b[39m \u001b[43m    \u001b[49m\u001b[43mglobal_endpoint_manager\u001b[49m\u001b[43m=\u001b[49m\u001b[38;5;28;43mself\u001b[39;49m\u001b[43m.\u001b[49m\u001b[43m_global_endpoint_manager\u001b[49m\u001b[43m,\u001b[49m\n\u001b[32m   2815\u001b[39m \u001b[43m    \u001b[49m\u001b[43mconnection_policy\u001b[49m\u001b[43m=\u001b[49m\u001b[38;5;28;43mself\u001b[39;49m\u001b[43m.\u001b[49m\u001b[43mconnection_policy\u001b[49m\u001b[43m,\u001b[49m\n\u001b[32m   2816\u001b[39m \u001b[43m    \u001b[49m\u001b[43mpipeline_client\u001b[49m\u001b[43m=\u001b[49m\u001b[38;5;28;43mself\u001b[39;49m\u001b[43m.\u001b[49m\u001b[43mpipeline_client\u001b[49m\u001b[43m,\u001b[49m\n\u001b[32m   2817\u001b[39m \u001b[43m    \u001b[49m\u001b[43mrequest\u001b[49m\u001b[43m=\u001b[49m\u001b[43mrequest\u001b[49m\u001b[43m,\u001b[49m\n\u001b[32m   2818\u001b[39m \u001b[43m    \u001b[49m\u001b[43mrequest_data\u001b[49m\u001b[43m=\u001b[49m\u001b[43mbody\u001b[49m\u001b[43m,\u001b[49m\n\u001b[32m   2819\u001b[39m \u001b[43m    \u001b[49m\u001b[43m*\u001b[49m\u001b[43m*\u001b[49m\u001b[43mkwargs\u001b[49m\n\u001b[32m   2820\u001b[39m \u001b[43m\u001b[49m\u001b[43m)\u001b[49m\n",
      "\u001b[36mFile \u001b[39m\u001b[32mc:\\source\\github\\gen-ai-prototypes\\.venv\\Lib\\site-packages\\azure\\cosmos\\_synchronized_request.py:204\u001b[39m, in \u001b[36mSynchronizedRequest\u001b[39m\u001b[34m(client, request_params, global_endpoint_manager, connection_policy, pipeline_client, request, request_data, **kwargs)\u001b[39m\n\u001b[32m    201\u001b[39m     request.headers[http_constants.HttpHeaders.ContentLength] = \u001b[32m0\u001b[39m\n\u001b[32m    203\u001b[39m \u001b[38;5;66;03m# Pass _Request function with its parameters to retry_utility's Execute method that wraps the call with retries\u001b[39;00m\n\u001b[32m--> \u001b[39m\u001b[32m204\u001b[39m \u001b[38;5;28;01mreturn\u001b[39;00m \u001b[43m_retry_utility\u001b[49m\u001b[43m.\u001b[49m\u001b[43mExecute\u001b[49m\u001b[43m(\u001b[49m\n\u001b[32m    205\u001b[39m \u001b[43m    \u001b[49m\u001b[43mclient\u001b[49m\u001b[43m,\u001b[49m\n\u001b[32m    206\u001b[39m \u001b[43m    \u001b[49m\u001b[43mglobal_endpoint_manager\u001b[49m\u001b[43m,\u001b[49m\n\u001b[32m    207\u001b[39m \u001b[43m    \u001b[49m\u001b[43m_Request\u001b[49m\u001b[43m,\u001b[49m\n\u001b[32m    208\u001b[39m \u001b[43m    \u001b[49m\u001b[43mrequest_params\u001b[49m\u001b[43m,\u001b[49m\n\u001b[32m    209\u001b[39m \u001b[43m    \u001b[49m\u001b[43mconnection_policy\u001b[49m\u001b[43m,\u001b[49m\n\u001b[32m    210\u001b[39m \u001b[43m    \u001b[49m\u001b[43mpipeline_client\u001b[49m\u001b[43m,\u001b[49m\n\u001b[32m    211\u001b[39m \u001b[43m    \u001b[49m\u001b[43mrequest\u001b[49m\u001b[43m,\u001b[49m\n\u001b[32m    212\u001b[39m \u001b[43m    \u001b[49m\u001b[43m*\u001b[49m\u001b[43m*\u001b[49m\u001b[43mkwargs\u001b[49m\n\u001b[32m    213\u001b[39m \u001b[43m\u001b[49m\u001b[43m)\u001b[49m\n",
      "\u001b[36mFile \u001b[39m\u001b[32mc:\\source\\github\\gen-ai-prototypes\\.venv\\Lib\\site-packages\\azure\\cosmos\\_retry_utility.py:85\u001b[39m, in \u001b[36mExecute\u001b[39m\u001b[34m(client, global_endpoint_manager, function, *args, **kwargs)\u001b[39m\n\u001b[32m     83\u001b[39m \u001b[38;5;28;01mtry\u001b[39;00m:\n\u001b[32m     84\u001b[39m     \u001b[38;5;28;01mif\u001b[39;00m args:\n\u001b[32m---> \u001b[39m\u001b[32m85\u001b[39m         result = \u001b[43mExecuteFunction\u001b[49m\u001b[43m(\u001b[49m\u001b[43mfunction\u001b[49m\u001b[43m,\u001b[49m\u001b[43m \u001b[49m\u001b[43mglobal_endpoint_manager\u001b[49m\u001b[43m,\u001b[49m\u001b[43m \u001b[49m\u001b[43m*\u001b[49m\u001b[43margs\u001b[49m\u001b[43m,\u001b[49m\u001b[43m \u001b[49m\u001b[43m*\u001b[49m\u001b[43m*\u001b[49m\u001b[43mkwargs\u001b[49m\u001b[43m)\u001b[49m\n\u001b[32m     86\u001b[39m     \u001b[38;5;28;01melse\u001b[39;00m:\n\u001b[32m     87\u001b[39m         result = ExecuteFunction(function, *args, **kwargs)\n",
      "\u001b[36mFile \u001b[39m\u001b[32mc:\\source\\github\\gen-ai-prototypes\\.venv\\Lib\\site-packages\\azure\\cosmos\\_retry_utility.py:149\u001b[39m, in \u001b[36mExecuteFunction\u001b[39m\u001b[34m(function, *args, **kwargs)\u001b[39m\n\u001b[32m    142\u001b[39m \u001b[38;5;28;01mdef\u001b[39;00m\u001b[38;5;250m \u001b[39m\u001b[34mExecuteFunction\u001b[39m(function, *args, **kwargs):\n\u001b[32m    143\u001b[39m \u001b[38;5;250m    \u001b[39m\u001b[33;03m\"\"\"Stub method so that it can be used for mocking purposes as well.\u001b[39;00m\n\u001b[32m    144\u001b[39m \u001b[33;03m    :param Callable function: the function to execute.\u001b[39;00m\n\u001b[32m    145\u001b[39m \u001b[33;03m    :param list args: the explicit arguments for the function.\u001b[39;00m\n\u001b[32m    146\u001b[39m \u001b[33;03m    :returns: the result of executing the function with the passed in arguments\u001b[39;00m\n\u001b[32m    147\u001b[39m \u001b[33;03m    :rtype: tuple(dict, dict)\u001b[39;00m\n\u001b[32m    148\u001b[39m \u001b[33;03m    \"\"\"\u001b[39;00m\n\u001b[32m--> \u001b[39m\u001b[32m149\u001b[39m     \u001b[38;5;28;01mreturn\u001b[39;00m \u001b[43mfunction\u001b[49m\u001b[43m(\u001b[49m\u001b[43m*\u001b[49m\u001b[43margs\u001b[49m\u001b[43m,\u001b[49m\u001b[43m \u001b[49m\u001b[43m*\u001b[49m\u001b[43m*\u001b[49m\u001b[43mkwargs\u001b[49m\u001b[43m)\u001b[49m\n",
      "\u001b[36mFile \u001b[39m\u001b[32mc:\\source\\github\\gen-ai-prototypes\\.venv\\Lib\\site-packages\\azure\\cosmos\\_synchronized_request.py:155\u001b[39m, in \u001b[36m_Request\u001b[39m\u001b[34m(global_endpoint_manager, request_params, connection_policy, pipeline_client, request, **kwargs)\u001b[39m\n\u001b[32m    153\u001b[39m     \u001b[38;5;28;01mraise\u001b[39;00m exceptions.CosmosAccessConditionFailedError(message=data, response=response)\n\u001b[32m    154\u001b[39m \u001b[38;5;28;01mif\u001b[39;00m response.status_code >= \u001b[32m400\u001b[39m:\n\u001b[32m--> \u001b[39m\u001b[32m155\u001b[39m     \u001b[38;5;28;01mraise\u001b[39;00m exceptions.CosmosHttpResponseError(message=data, response=response)\n\u001b[32m    157\u001b[39m result = \u001b[38;5;28;01mNone\u001b[39;00m\n\u001b[32m    158\u001b[39m \u001b[38;5;28;01mif\u001b[39;00m data:\n",
      "\u001b[31mCosmosHttpResponseError\u001b[39m: (Forbidden) Request blocked by Auth cosmosdb03 : Request for Read DatabaseAccount is blocked because principal [12ed081e-1fa0-47dd-a062-15019ba2cad3] does not have required RBAC permissions to perform action [Microsoft.DocumentDB/databaseAccounts/sqlDatabases/write] on any scope. Learn more: https://aka.ms/cosmos-native-rbac.\r\nActivityId: 3a5d837d-6669-4006-8a42-2de83d516061, Microsoft.Azure.Documents.Common/2.14.0\nCode: Forbidden\nMessage: Request blocked by Auth cosmosdb03 : Request for Read DatabaseAccount is blocked because principal [12ed081e-1fa0-47dd-a062-15019ba2cad3] does not have required RBAC permissions to perform action [Microsoft.DocumentDB/databaseAccounts/sqlDatabases/write] on any scope. Learn more: https://aka.ms/cosmos-native-rbac.\r\nActivityId: 3a5d837d-6669-4006-8a42-2de83d516061, Microsoft.Azure.Documents.Common/2.14.0"
     ]
    }
   ],
   "source": [
    "from cosmosdb_handler import CosmosDBHandler\n",
    "\n",
    "CosmosDBHandler(endpoint=cosmosdb_endpoint, credential=credential, database_name=\"terminologydb\", collection=\"terminology\")"
   ]
  }
 ],
 "metadata": {
  "kernelspec": {
   "display_name": ".venv",
   "language": "python",
   "name": "python3"
  },
  "language_info": {
   "codemirror_mode": {
    "name": "ipython",
    "version": 3
   },
   "file_extension": ".py",
   "mimetype": "text/x-python",
   "name": "python",
   "nbconvert_exporter": "python",
   "pygments_lexer": "ipython3",
   "version": "3.11.9"
  }
 },
 "nbformat": 4,
 "nbformat_minor": 2
}
