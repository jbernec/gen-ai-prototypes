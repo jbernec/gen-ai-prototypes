{
 "cells": [
  {
   "cell_type": "markdown",
   "metadata": {
    "application/vnd.databricks.v1+cell": {
     "cellMetadata": {
      "byteLimit": 2048000,
      "rowLimit": 10000
     },
     "inputWidgets": {},
     "nuid": "7d221024-5a24-48c9-a668-93d12c41970c",
     "showTitle": false,
     "title": ""
    }
   },
   "source": [
    "### Autogen Agent-driven Auto Insurance Claims RAG Pipeline with Page-based chunking."
   ]
  },
  {
   "cell_type": "markdown",
   "metadata": {
    "application/vnd.databricks.v1+cell": {
     "cellMetadata": {
      "byteLimit": 2048000,
      "rowLimit": 10000
     },
     "inputWidgets": {},
     "nuid": "5f02825e-aab6-403c-9a51-b85b628f1c76",
     "showTitle": false,
     "title": ""
    }
   },
   "source": [
    "#### In this post, I will explore a page-based chunking strategy as part of a PoC for an autogen agent-driven RAG pipeline for processing auto insurance claims.\n",
    "#### RAG workflows have evolved as a new data stack that differs from traditional ETL. While it still involves data ingestion and processing like traditional ETL, it also adds new pipeline steps such as chunking, embedding, and loading data into a vector database.\n",
    "#### The main objective of these new RAG pipelines is to enable context-augmented LLM applications. \n",
    "#### In this notebook, I'll demonstrate how to leverage Azure AI Document Intelligence in conjunction with AzureOpenAI's multimodal GPT-4o model to extract and interpret data from auto insurance claims documents that feature intricate tables. I'll utilize a template form that includes detailed sections on accident location, incident description, involved vehicles, and injury information.\n",
    "#### In addition, I introduce two Autogen AI agents to demonstrate two agents, configured to collaborate and perform the search retrieval with a custom function, without a human in the loop setting. While still being able to respond to other queries outside of the provided private dataset context.\n",
    "#### I opted to implement a page-based chunking technique that relies on the markdown output of the Azure AI Document Intelligence sdk. The sdk extracts page content including tables into text and tabular markdown output format that maintains the page textual structure (like paragraphs and sections) and context. This technique also makes it easy to extract the page number per chunk.\n",
    "#### However, one of the potential drawbacks of this technique is that the integrity of a cross-page paragraph textual content or table could be degraded because the page chunk abruptly cuts off the content at the end of a page.\n",
    "#### In addition, I extracted all table objects and metadata separately and uploaded as one chunk.I will evaluate the results of the downstream llm agent responses against that the results from previous PoCs built uisng other strategies.\n",
    "#### I compare the responses to my sample questions against some ground truths, and so far, the answers are both accurate and relevant. Further refinement of the responses can be accomplished by applying additional preprocessing to the claims documents to better maintain context between the tables and associated texts. \n",
    "#### The claims files are in PDF format and contain tabular data.Azure AI Document Intelligence parses the table data into markdown-formatted tables, which can be chunked, indexed, uploaded to and queried over with a Azure AI Search index.\n",
    "#### The goal of this proof of concept is to demonstrate how insurance companies can expedite the process of extracting information from car accident insurance claim documents. This can be achieved without the need to manually read through each claims form.\n",
    "#### I set up autogen agents, incorporating a human-in-the-loop feature for automated chat interactions and responses.\n",
    "#### Out of the 6 questions, 4 were accurate, one was incomplete, and the last could not be answered.\n",
    "![Auto Insurance Claims Form in RAG](https://github.com/jbernec/rag-orchestrations/blob/main/images/claims-sample.png?raw=true)"
   ]
  },
  {
   "cell_type": "code",
   "execution_count": 0,
   "metadata": {
    "application/vnd.databricks.v1+cell": {
     "cellMetadata": {
      "byteLimit": 2048000,
      "rowLimit": 10000
     },
     "inputWidgets": {},
     "nuid": "fec7358e-9280-4cce-b38a-19b6b52531ce",
     "showTitle": false,
     "title": ""
    }
   },
   "outputs": [],
   "source": [
    "# import required packages\n",
    "from langchain_openai import AzureOpenAIEmbeddings\n",
    "from langchain_openai import AzureChatOpenAI\n",
    "from azure.core.credentials import AzureKeyCredential\n",
    "from azure.storage.blob import BlobServiceClient\n",
    "from azure.ai.documentintelligence import DocumentIntelligenceClient\n",
    "from azure.ai.documentintelligence.models import AnalyzeResult, AnalyzeDocumentRequest, ContentFormat\n",
    "import time\n",
    "from azure.identity import DefaultAzureCredential\n",
    "from openai import AzureOpenAI\n",
    "from azure.identity import get_bearer_token_provider\n",
    "from autogen import AssistantAgent, UserProxyAgent, register_function\n",
    "from typing_extensions import List, Annotated\n",
    "import autogen\n",
    "from azure.search.documents.indexes import SearchIndexClient\n",
    "from azure.search.documents.indexes.models import SearchField, SearchFieldDataType, VectorSearch, SimpleField, SearchableField, HnswAlgorithmConfiguration, HnswParameters, VectorSearchAlgorithmMetric, ExhaustiveKnnAlgorithmConfiguration, ExhaustiveKnnParameters, VectorSearchProfile, AzureOpenAIVectorizer, AzureOpenAIParameters, SemanticConfiguration, SemanticSearch, SemanticPrioritizedFields, SemanticField, SearchIndex\n",
    "from azure.search.documents import SearchClient\n",
    "from azure.search.documents.models import VectorizableTextQuery\n",
    "from azure.search.documents.models import (\n",
    "    QueryType,\n",
    "    QueryCaptionType,\n",
    "    QueryAnswerType\n",
    ")"
   ]
  },
  {
   "cell_type": "markdown",
   "metadata": {
    "application/vnd.databricks.v1+cell": {
     "cellMetadata": {
      "byteLimit": 2048000,
      "rowLimit": 10000
     },
     "inputWidgets": {},
     "nuid": "23e798f2-e8f7-4c39-9a0b-1cb32b6d3a62",
     "showTitle": false,
     "title": ""
    }
   },
   "source": [
    "#### Step 2: Set credential variables."
   ]
  },
  {
   "cell_type": "code",
   "execution_count": 0,
   "metadata": {
    "application/vnd.databricks.v1+cell": {
     "cellMetadata": {
      "byteLimit": 2048000,
      "rowLimit": 10000
     },
     "inputWidgets": {},
     "nuid": "778616df-fd86-493f-90c0-8537805488e0",
     "showTitle": false,
     "title": ""
    }
   },
   "outputs": [],
   "source": [
    "\"\"\"\n",
    "This code loads and sets the necessary variables for Azure services.\n",
    "The variables are loaded from Azure Key Vault.\n",
    "\"\"\"\n",
    "azure_openai_endpoint=dbutils.secrets.get(scope=\"myscope\", key=\"aoai-endpoint\")\n",
    "azure_openai_api_key=dbutils.secrets.get(scope=\"myscope\", key=\"aoai-api-key\")\n",
    "azure_openai_api_version = \"2024-02-15-preview\"\n",
    "azure_openai_embedding_deployment = dbutils.secrets.get(scope=\"myscope\", key=\"aoai-embedding-deployment\")\n",
    "doc_intelligence_endpoint = dbutils.secrets.get(scope=\"myscope\", key=\"docintelligence-endpoint\")\n",
    "doc_intelligence_key = dbutils.secrets.get(scope=\"myscope\", key=\"docintelligence-key\")\n",
    "search_credential = AzureKeyCredential(dbutils.secrets.get(scope=\"myscope\", key=\"aisearch-adminkey\"))\n",
    "search_endpoint = dbutils.secrets.get(scope=\"myscope\", key=\"aisearch-endpoint\")\n",
    "index_name = \"azdocintel-insurance-index\""
   ]
  },
  {
   "cell_type": "markdown",
   "metadata": {
    "application/vnd.databricks.v1+cell": {
     "cellMetadata": {
      "byteLimit": 2048000,
      "rowLimit": 10000
     },
     "inputWidgets": {},
     "nuid": "799fc4a9-d809-4419-b7a4-bddb0677cf60",
     "showTitle": false,
     "title": ""
    }
   },
   "source": [
    "#### Step 3: Connect to blob storage."
   ]
  },
  {
   "cell_type": "code",
   "execution_count": 0,
   "metadata": {
    "application/vnd.databricks.v1+cell": {
     "cellMetadata": {
      "byteLimit": 2048000,
      "rowLimit": 10000
     },
     "inputWidgets": {},
     "nuid": "65706cdf-bc00-4344-98d9-cd4171ffad4f",
     "showTitle": false,
     "title": ""
    }
   },
   "outputs": [
    {
     "output_type": "stream",
     "name": "stdout",
     "output_type": "stream",
     "text": [
      "https://blobstore00.blob.core.windows.net/insurance-rag\n"
     ]
    }
   ],
   "source": [
    "# Connect to Blob Storage\n",
    "blob_connection_string = dbutils.secrets.get(scope=\"myscope\", key=\"blobstore-connstr\")\n",
    "blob_container_name = \"insurance-rag\"\n",
    "blob_service_client = BlobServiceClient.from_connection_string(blob_connection_string)\n",
    "container_client = blob_service_client.get_container_client(blob_container_name)\n",
    "blobs = container_client.list_blobs()\n",
    "container_url = container_client.url\n",
    "print(container_url)"
   ]
  },
  {
   "cell_type": "markdown",
   "metadata": {
    "application/vnd.databricks.v1+cell": {
     "cellMetadata": {
      "byteLimit": 2048000,
      "rowLimit": 10000
     },
     "inputWidgets": {},
     "nuid": "86d83597-dd38-4a93-8e48-bcd862e945d4",
     "showTitle": false,
     "title": ""
    }
   },
   "source": [
    "#### Step 4: Define and Configure Autogen Agents."
   ]
  },
  {
   "cell_type": "code",
   "execution_count": 0,
   "metadata": {
    "application/vnd.databricks.v1+cell": {
     "cellMetadata": {
      "byteLimit": 2048000,
      "rowLimit": 10000
     },
     "inputWidgets": {},
     "nuid": "ebdf6347-b31d-4aa7-8ba2-e12b8deb01bc",
     "showTitle": false,
     "title": ""
    }
   },
   "outputs": [],
   "source": [
    "llm_config = {\n",
    "    \"config_list\": [\n",
    "        {\n",
    "            \"model\": dbutils.secrets.get(scope=\"myscope\", key=\"aoai-deploymentname\"),\n",
    "            \"api_key\": dbutils.secrets.get(scope=\"myscope\", key=\"aoai-api-key\"),\n",
    "            \"base_url\": dbutils.secrets.get(scope=\"myscope\", key=\"aoai-endpoint\"),\n",
    "            \"api_type\": \"azure\",\n",
    "            \"api_version\": \"2024-02-15-preview\",\n",
    "        },\n",
    "    ]\n",
    "}\n",
    "\n",
    "gpt4_config = {\n",
    "    \"cache_seed\": 42,\n",
    "    \"temperature\": 0,\n",
    "    \"config_list\": llm_config[\"config_list\"],\n",
    "    \"timeout\": 120\n",
    "}\n",
    "\n",
    "\n",
    "ai_search_agent = AssistantAgent(\n",
    "    name=\"AISearchAssistant\",\n",
    "    system_message=\"You are a helpful AI agent.\"\n",
    "    \"You can help with Azure AI Search service.\"\n",
    "    \"You use the retrieved search documents to provide contextually relevant answers\"\n",
    "    \"Return TERMINATE when the task is done\",\n",
    "    llm_config=gpt4_config,\n",
    ")\n",
    "\n",
    "user_proxy = UserProxyAgent(\n",
    "    name=\"User\",\n",
    "    is_termination_msg=lambda x: \"terminate\" in x.get(\"content\", \"\").lower()\n",
    "    if x.get(\"content\", \"\") is not None\n",
    "    else False,\n",
    "    human_input_mode=\"NEVER\",\n",
    "    max_consecutive_auto_reply=5,\n",
    "    code_execution_config=False\n",
    ")"
   ]
  },
  {
   "cell_type": "markdown",
   "metadata": {
    "application/vnd.databricks.v1+cell": {
     "cellMetadata": {
      "byteLimit": 2048000,
      "rowLimit": 10000
     },
     "inputWidgets": {},
     "nuid": "39046672-2ff3-46d4-bbdb-d7c0dfb79ca2",
     "showTitle": false,
     "title": ""
    }
   },
   "source": [
    "#### Step 5: Define required functions and tools."
   ]
  },
  {
   "cell_type": "code",
   "execution_count": 0,
   "metadata": {
    "application/vnd.databricks.v1+cell": {
     "cellMetadata": {
      "byteLimit": 2048000,
      "rowLimit": 10000
     },
     "inputWidgets": {},
     "nuid": "896f80fe-21ee-4cb3-802d-e364d971e100",
     "showTitle": false,
     "title": ""
    }
   },
   "outputs": [],
   "source": [
    "import base64\n",
    "\n",
    "# Function to convert text to unique random id for search index field\n",
    "def text_to_base64(text):\n",
    "    # Convert text to bytes using UTF-8 encoding\n",
    "    bytes_data = text.encode('utf-8')\n",
    "\n",
    "    # Perform Base64 encoding\n",
    "    base64_encoded = base64.b64encode(bytes_data)\n",
    "\n",
    "    # Convert the result back to a UTF-8 string representation\n",
    "    base64_text = base64_encoded.decode('utf-8')\n",
    "\n",
    "    return base64_text\n",
    "\n",
    "# Function to crack and extract PDF documents using Azure AI Document Intelligence\n",
    "def extract_pdf_pages(book_url: str):\n",
    "    page_list = []\n",
    "    print(f\"{book_url}\\n\\n\")\n",
    "    print(f\"---------------------------------------------\")\n",
    "    \n",
    "    document_intelligence_client = DocumentIntelligenceClient(endpoint=doc_intelligence_endpoint, credential=AzureKeyCredential(key=doc_intelligence_key))\n",
    "\n",
    "    poller= document_intelligence_client.begin_analyze_document(model_id=\"prebuilt-layout\", analyze_request=AnalyzeDocumentRequest(url_source=book_url), output_content_format=\"markdown\")\n",
    "\n",
    "    result: AnalyzeResult = poller.result()\n",
    "    \n",
    "    for page in result.pages:\n",
    "        page_num = page.page_number\n",
    "        page_content = \"\"\n",
    "        #tables_on_page = [table for table in result.tables if table.bounding_regions[0].page_number == page_num]\n",
    "        # Calculate the start position as the offset of the first span\n",
    "        start_pos = page.spans[0].offset\n",
    "\n",
    "        # Calculate the end position by adding the length of the first span to its offset\n",
    "        end_pos = start_pos + page.spans[0].length\n",
    "\n",
    "        # Slice the result.content string from start_pos to end_pos to get the desired content\n",
    "        page_content += result.content[start_pos:end_pos]\n",
    "        #print(f\"{page_content}\\n\\n\")\n",
    "        page_content += \" \"\n",
    "        page_list.append((page_num, page_content))\n",
    "\n",
    "    \n",
    "    return page_list\n",
    "\n",
    "# one way of registering functions is to use the register_for_llm and register_for_execution decorators or use the register_function method.\n",
    "\n",
    "@user_proxy.register_for_execution()\n",
    "@ai_search_agent.register_for_llm(\n",
    "    description=\"A tool or function for search retrieval from Azure AI Search\"\n",
    ")\n",
    "def search_retrieval(user_input:str) -> str:\n",
    "        \"\"\"\n",
    "        Search and retrieve answers from Azure AI Search.\n",
    "        Returns:\n",
    "            str\n",
    "        \"\"\"\n",
    "        query = user_input\n",
    "        search_client = SearchClient(endpoint=search_endpoint, index_name=index_name, credential=search_credential)\n",
    "        vector_query = VectorizableTextQuery(text=query, k_nearest_neighbors=5, fields=\"vector\", exhaustive=True)\n",
    "\n",
    "        r = search_client.search(  \n",
    "        search_text=query,\n",
    "        vector_queries=[vector_query],\n",
    "        select=[\"id\", \"content\"],\n",
    "        query_type=QueryType.SEMANTIC,\n",
    "        semantic_configuration_name='my-semantic-config',\n",
    "        query_caption=QueryCaptionType.EXTRACTIVE,\n",
    "        query_answer=QueryAnswerType.EXTRACTIVE,\n",
    "        top=1\n",
    "    )\n",
    "        #query_result = results.get_answers()[0].text\n",
    "        results = [doc[\"content\"].replace(\"\\n\", \"\").replace(\"\\r\", \"\") for doc in r]\n",
    "        content = \"\\n\".join(results)\n",
    "        return content"
   ]
  },
  {
   "cell_type": "markdown",
   "metadata": {
    "application/vnd.databricks.v1+cell": {
     "cellMetadata": {
      "byteLimit": 2048000,
      "rowLimit": 10000
     },
     "inputWidgets": {},
     "nuid": "3b1b8e50-2618-43b9-8795-2e140f82e3d8",
     "showTitle": false,
     "title": ""
    }
   },
   "source": [
    "#### Step 6: Create Azure AI Search Index and Vector Configurations."
   ]
  },
  {
   "cell_type": "code",
   "execution_count": 0,
   "metadata": {
    "application/vnd.databricks.v1+cell": {
     "cellMetadata": {
      "byteLimit": 2048000,
      "rowLimit": 10000
     },
     "inputWidgets": {},
     "nuid": "d0b06e1d-cad5-4776-9cfe-c2162819b6a3",
     "showTitle": false,
     "title": ""
    }
   },
   "outputs": [],
   "source": [
    "# Create the search index fields and vector search configuration\n",
    "\n",
    "# Create a search index client required to create the index\n",
    "index_client = SearchIndexClient(endpoint=search_endpoint, credential=search_credential)\n",
    "\n",
    "fields = [\n",
    "    SimpleField(name=\"id\", key=True, type=SearchFieldDataType.String, filterable=True, sortable=True, facetable=True),\n",
    "    SearchableField(name=\"title\", type=SearchFieldDataType.String, filterable=True, searchable=True, retrievable=True),\n",
    "    SearchableField(name=\"content\", type=SearchFieldDataType.String, searchable=True, sortable=True, facetable=True, retrievable=True),\n",
    "    SearchableField(name=\"location\", type=SearchFieldDataType.String, searchable=True, filterable=True, retrievable=True),\n",
    "    SearchableField(name=\"pagenum\", type=SearchFieldDataType.String, searchable=True, filterable=True, retrievable=True),\n",
    "    SearchField(name=\"vector\", type=SearchFieldDataType.Collection(SearchFieldDataType.Single), searchable=True, retrievable=True, hidden=False, vector_search_dimensions=1536, vector_search_profile_name=\"myHnswProfile\")\n",
    "]\n",
    "\n",
    "# Configure the vector search config\n",
    "vector_search = VectorSearch(\n",
    "    algorithms=[\n",
    "        HnswAlgorithmConfiguration(\n",
    "            name=\"myHnsw\",\n",
    "            parameters=HnswParameters(\n",
    "                m=4,\n",
    "                ef_construction=400,\n",
    "                ef_search=500,\n",
    "                metric=VectorSearchAlgorithmMetric.COSINE\n",
    "            )\n",
    "        ),\n",
    "        ExhaustiveKnnAlgorithmConfiguration(\n",
    "                name=\"myExhaustiveKnn\",\n",
    "                parameters=ExhaustiveKnnParameters(\n",
    "                    metric=VectorSearchAlgorithmMetric.COSINE\n",
    "                ),\n",
    "            )\n",
    "    ],\n",
    "    profiles=[  \n",
    "        VectorSearchProfile(  \n",
    "            name=\"myHnswProfile\",  \n",
    "            algorithm_configuration_name=\"myHnsw\",  \n",
    "            vectorizer=\"myOpenAI\",  \n",
    "        ),\n",
    "        VectorSearchProfile(\n",
    "                name=\"myExhaustiveKnnProfile\",\n",
    "                algorithm_configuration_name=\"myExhaustiveKnn\",\n",
    "                vectorizer=\"myOpenAI\",\n",
    "            )\n",
    "    ],\n",
    "    vectorizers=[  \n",
    "        AzureOpenAIVectorizer(  \n",
    "            name=\"myOpenAI\",  \n",
    "            kind=\"azureOpenAI\",  \n",
    "            azure_open_ai_parameters=AzureOpenAIParameters(  \n",
    "                resource_uri=azure_openai_endpoint,  \n",
    "                deployment_id=azure_openai_embedding_deployment,  \n",
    "                api_key=azure_openai_api_key,  \n",
    "            ),  \n",
    "        ),  \n",
    "    ]\n",
    ")\n",
    "\n",
    "# Configure semantic search on the index\n",
    "semantic_config = SemanticConfiguration(\n",
    "    name=\"my-semantic-config\",\n",
    "    prioritized_fields=SemanticPrioritizedFields(\n",
    "        content_fields=[\n",
    "            SemanticField(field_name=\"content\")\n",
    "        ]\n",
    "    )\n",
    ")\n",
    "# Create the semantic search config\n",
    "semantic_search = SemanticSearch(configurations=[semantic_config])\n",
    "\n",
    "# Create the search index\n",
    "index = SearchIndex(name=index_name, fields=fields, vector_search=vector_search, semantic_search=semantic_search)\n",
    "result = index_client.create_or_update_index(index=index)\n",
    "print(f\"{result.name} created\")"
   ]
  },
  {
   "cell_type": "markdown",
   "metadata": {
    "application/vnd.databricks.v1+cell": {
     "cellMetadata": {
      "byteLimit": 2048000,
      "rowLimit": 10000
     },
     "inputWidgets": {},
     "nuid": "b868a8a3-69b9-4c60-8a68-6427426ab446",
     "showTitle": false,
     "title": ""
    }
   },
   "source": [
    "#### Step 7: Configure vector embeddings and extract document text and tables into  tabular markdown representations."
   ]
  },
  {
   "cell_type": "code",
   "execution_count": 0,
   "metadata": {
    "application/vnd.databricks.v1+cell": {
     "cellMetadata": {
      "byteLimit": 2048000,
      "rowLimit": 10000
     },
     "inputWidgets": {},
     "nuid": "5b4fb4d3-f99d-4b17-a976-3ac9dcc3b178",
     "showTitle": false,
     "title": ""
    }
   },
   "outputs": [],
   "source": [
    "# Instantiate the azure open ai embedding object. This will be used to embed the vector content/chunk field\n",
    "\n",
    "\n",
    "# Instantiate azure open ai embedding\n",
    "\n",
    "azure_openai_client = AzureOpenAI(\n",
    "    api_key=azure_openai_api_key,\n",
    "    api_version=azure_openai_api_version,\n",
    "    azure_deployment=azure_openai_embedding_deployment,\n",
    "    azure_endpoint=azure_openai_endpoint,\n",
    ")\n",
    "\n",
    "\n",
    "aoai_embeddings = AzureOpenAIEmbeddings(\n",
    "    azure_deployment=azure_openai_embedding_deployment,\n",
    "    openai_api_version=azure_openai_api_version,\n",
    "    azure_endpoint=azure_openai_endpoint,\n",
    "    api_key=azure_openai_api_key,\n",
    ")\n",
    "\n",
    "# dictionary to hold and map a book to it's content and page numbers\n",
    "claims_doc_map = {}\n",
    "\n",
    "for claim_doc in container_client.list_blob_names():\n",
    "    print(f\"Extracting content from {claim_doc}...\")\n",
    "\n",
    "    # Capture the start time\n",
    "    start_time = time.time()\n",
    "    book_url = container_url + \"/\" + claim_doc\n",
    "\n",
    "    # Start extraction\n",
    "    page_list = extract_pdf_pages(book_url=book_url)\n",
    "    claim_doc_name = claim_doc.split(sep=\".\")[0].title()\n",
    "    claims_doc_map[claim_doc_name] = page_list\n",
    "\n",
    "    # Capture the end time and Calculate the elapsed time\n",
    "    end_time = time.time()\n",
    "    elapsed_time = end_time - start_time\n",
    "\n",
    "    print(f\"Parsing took: {elapsed_time:.6f} seconds\")\n",
    "    print(f\"The {claim_doc_name} claim contains {len(page_list)} pages\\n\")"
   ]
  },
  {
   "cell_type": "markdown",
   "metadata": {
    "application/vnd.databricks.v1+cell": {
     "cellMetadata": {
      "byteLimit": 2048000,
      "rowLimit": 10000
     },
     "inputWidgets": {},
     "nuid": "086197f9-3051-4c93-99ab-8585fb9881e2",
     "showTitle": false,
     "title": ""
    }
   },
   "source": [
    "#### Step 8: Upload documents into Azure AI Search Index."
   ]
  },
  {
   "cell_type": "code",
   "execution_count": 0,
   "metadata": {
    "application/vnd.databricks.v1+cell": {
     "cellMetadata": {
      "byteLimit": 2048000,
      "rowLimit": 10000
     },
     "inputWidgets": {},
     "nuid": "402665db-492a-4b28-82cd-750f12aa917b",
     "showTitle": false,
     "title": ""
    }
   },
   "outputs": [],
   "source": [
    "from azure.search.documents import SearchClient\n",
    "\n",
    "search_client = SearchClient(search_endpoint, index_name, credential=search_credential)\n",
    "payload_list = []\n",
    "for claimdoc, pagelist in claims_doc_map.items():\n",
    "    for page in pagelist:\n",
    "        try:\n",
    "            id = claimdoc + page[1][1:10]\n",
    "            title = f\"{claimdoc}\"\n",
    "            upload_payload = {\n",
    "                        \"id\": text_to_base64(text=id),\n",
    "                        \"title\": title,\n",
    "                        \"content\": page[1],\n",
    "                        \"location\": container_url + \"/\" + claimdoc + \".pdf\",\n",
    "                        \"pagenum\": str(page[0]),\n",
    "                        \"vector\": aoai_embeddings.embed_query(page[1] if page[1]!=\"\" else \"-------\")\n",
    "            }\n",
    "            payload_list.append(upload_payload)\n",
    "            print(f\"Uploading pages.............for :{claimdoc}\")\n",
    "            result_upload = search_client.upload_documents(documents=[upload_payload])\n",
    "            print(f\"Successfully uploaded pages for :{claimdoc}\")\n",
    "        except Exception as e:\n",
    "            print(\"Exception:\", e)"
   ]
  },
  {
   "cell_type": "markdown",
   "metadata": {
    "application/vnd.databricks.v1+cell": {
     "cellMetadata": {
      "byteLimit": 2048000,
      "rowLimit": 10000
     },
     "inputWidgets": {},
     "nuid": "8ac2d7c9-0075-4bb2-b0e3-e3964870ff7e",
     "showTitle": false,
     "title": ""
    }
   },
   "source": [
    "#### Step 9: Initiate Agent based Chat."
   ]
  },
  {
   "cell_type": "code",
   "execution_count": 0,
   "metadata": {
    "application/vnd.databricks.v1+cell": {
     "cellMetadata": {
      "byteLimit": 2048000,
      "rowLimit": 10000
     },
     "inputWidgets": {},
     "nuid": "6ef7e042-8fbc-47bb-a250-c07225e02a2b",
     "showTitle": false,
     "title": ""
    }
   },
   "outputs": [
    {
     "output_type": "stream",
     "name": "stdout",
     "output_type": "stream",
     "text": [
      "\u001B[33mUser\u001B[0m (to AISearchAssistant):\n\nSearch for 'Why are auto insurance policies mandatory?' in the above defined index?\n\n--------------------------------------------------------------------------------\n\u001B[33mAISearchAssistant\u001B[0m (to User):\n\n\u001B[32m***** Suggested tool call (call_umcX5tduKdwlHJlQykbGwak1): search_retrieval *****\u001B[0m\nArguments: \n{\"user_input\":\"Why are auto insurance policies mandatory?\"}\n\u001B[32m*********************************************************************************\u001B[0m\n\n--------------------------------------------------------------------------------\n\u001B[35m\n>>>>>>>> EXECUTING ASYNC FUNCTION search_retrieval...\u001B[0m\n"
     ]
    },
    {
     "output_type": "stream",
     "name": "stderr",
     "output_type": "stream",
     "text": [
      "[runtime logging] log_function_use: autogen logger is None\n"
     ]
    },
    {
     "output_type": "stream",
     "name": "stdout",
     "output_type": "stream",
     "text": [
      "\u001B[33mUser\u001B[0m (to AISearchAssistant):\n\n\u001B[33mUser\u001B[0m (to AISearchAssistant):\n\n\u001B[32m***** Response from calling tool (call_umcX5tduKdwlHJlQykbGwak1) *****\u001B[0m\nAUTOMOBILE CLAIM===## LOSSDate03/10/2023LocationIntersection of Main St and Oak StCity BoiseState IDPolice Dept. InvolvedBoise Police DepartmentTicket Issued## DESCRIPTION OF ACCIDENTOn March 10, 2023, at approximately 9:15 AM, I was backing out of a parking space in the Boise Towne Square Mall parking lot. As I checked my mirrors and blind spots, I did not see any vehicles approaching. However, the driver of Vehicle 2, Michael Chen, was driving his truck through the parking lot at a high speed and failed to stop in time. He collided with my vehicle, causing significant damage to the rear bumper and trunk.## INSURED VEHICLEYear2018MakeToyotaModel CamryV.I.N. 4T1BF1FK8JU901234PlateGHI789Extent of Damages Rear bumper and trunk damage, including scratches, dents, and broken taillightPresent Location Impound LotDriver Rachel PatelDate of BirthFebruary 12, 1992License No. ID1234567(ASK IF OFFICER OF CO)State ID## OTHER VEHICLEYear 2020Make FordModelF-150Extent of DamagesFront bumper and grille damage, including scratches, dents, and broken headlightOwner Michael ChenPhone5559999999Address 303 Maple AvenueCity BoiseState IDZip83701AddressCityState ZipInsurance InformationCompany NameXYZ Insurance CompanyPolicy No. 987654321Agent NameMichael HawkPhone 2135672349## INJUREDNamePhoneAddressCityState ZipExtent of Injury## WITNESSESName Sophia RodriguezPhone 5554567890Address 2557 La Cienega BoulevardCity BoiseState IDZip83701## IMPACTIs damaged auto essential to business?YesHow? Rachel can't drive to work anymore. \n\u001B[32m**********************************************************************\u001B[0m\n\n--------------------------------------------------------------------------------\n\u001B[33mAISearchAssistant\u001B[0m (to User):\n\nThe search did not return relevant information regarding why auto insurance policies are mandatory. Would you like me to try a different query or provide information based on general knowledge?\n\n--------------------------------------------------------------------------------\n\u001B[33mUser\u001B[0m (to AISearchAssistant):\n\n\n\n--------------------------------------------------------------------------------\n\u001B[33mAISearchAssistant\u001B[0m (to User):\n\nAuto insurance policies are mandatory for several key reasons:\n\n1. **Financial Protection**: Auto insurance provides financial protection for drivers. In the event of an accident, insurance can cover the costs of vehicle repairs, medical expenses, and other damages, reducing the financial burden on the individuals involved.\n\n2. **Legal Requirement**: Most states and countries have laws that require drivers to carry a minimum amount of auto insurance. This ensures that drivers can cover the costs of damages or injuries they may cause to others in an accident.\n\n3. **Liability Coverage**: Mandatory auto insurance ensures that drivers have liability coverage, which pays for damages and injuries to others if the policyholder is at fault in an accident. This helps protect other drivers, passengers, and pedestrians.\n\n4. **Uninsured Motorist Protection**: By requiring auto insurance, the number of uninsured drivers on the road is reduced. This helps protect insured drivers from having to pay out-of-pocket for damages caused by uninsured motorists.\n\n5. **Peace of Mind**: Having auto insurance provides peace of mind to drivers, knowing that they are financially protected in case of an accident. This can reduce stress and anxiety associated with driving.\n\n6. **Public Safety**: Mandatory auto insurance contributes to overall public safety by ensuring that all drivers are financially responsible for their actions on the road. This can lead to safer driving behaviors and fewer accidents.\n\nIf you need more detailed information or specific legal requirements, please let me know!\n\n--------------------------------------------------------------------------------\n"
     ]
    }
   ],
   "source": [
    "message_0 = \"Search for 'Why are auto insurance policies mandatory?' in the above defined index?\"\n",
    "\n",
    "agent_response_0 = await user_proxy.a_initiate_chat(recipient=ai_search_agent, message=message_0)"
   ]
  },
  {
   "cell_type": "code",
   "execution_count": 0,
   "metadata": {
    "application/vnd.databricks.v1+cell": {
     "cellMetadata": {
      "byteLimit": 2048000,
      "rowLimit": 10000
     },
     "inputWidgets": {},
     "nuid": "5c324520-542d-48d1-bff5-7390b24d6a0e",
     "showTitle": false,
     "title": ""
    }
   },
   "outputs": [
    {
     "output_type": "stream",
     "name": "stdout",
     "output_type": "stream",
     "text": [
      "\u001B[33mUser\u001B[0m (to AISearchAssistant):\n\nSearch for 'Who filed the insurance claim for the accident that happened on Sunset Blvd?' in the above defined index?\n\n--------------------------------------------------------------------------------\n\u001B[33mAISearchAssistant\u001B[0m (to User):\n\n\u001B[32m***** Suggested tool call (call_dp5GQhWJv2CmKzU6buPBxg17): search_retrieval *****\u001B[0m\nArguments: \n{\"user_input\":\"Who filed the insurance claim for the accident that happened on Sunset Blvd?\"}\n\u001B[32m*********************************************************************************\u001B[0m\n\n--------------------------------------------------------------------------------\n\u001B[35m\n>>>>>>>> EXECUTING ASYNC FUNCTION search_retrieval...\u001B[0m\n"
     ]
    },
    {
     "output_type": "stream",
     "name": "stderr",
     "output_type": "stream",
     "text": [
      "[runtime logging] log_function_use: autogen logger is None\n"
     ]
    },
    {
     "output_type": "stream",
     "name": "stdout",
     "output_type": "stream",
     "text": [
      "\u001B[33mUser\u001B[0m (to AISearchAssistant):\n\n\u001B[33mUser\u001B[0m (to AISearchAssistant):\n\n\u001B[32m***** Response from calling tool (call_dp5GQhWJv2CmKzU6buPBxg17) *****\u001B[0m\nAUTOMOBILE CLAIM===## LOSSDate06/23/2023Location Intersection of Vine Street and Sunset BICity Los AngelesStateCAPolice Dept. InvolvedLAPDTicket IssuedTraffic Violation## DESCRIPTION OF ACCIDENTOn October 15, 2023, at approximately 3:30 PM, I was driving my 2020 Honda Accord (License Plate: 7XYZ123) southbound on Vine St,approaching the intersection with Sunset Blvd. As I entered the intersection, a blue 2018 Ford Escape (License Plate: 8ABC456) traveling eastbound on Sunset Blvd ran a red light and collided with the front passenger side of my vehicle.## INSURED VEHICLEYear2020MakeHondaModel AccordV.I.N. 1HGCV1F30LA123456Plate7XYZ123Extent of DamagesThe front passenger side of my Honda Accord sustained significant damage, including a dented fender and broken headlight. Estimated repair cost: $3,500.Present Location Impound LotDriver Michael JohnsonDate of Birth01/15/1985License No.11111111111(ASK IF OFFICER OF CO)State CA## OTHER VEHICLEYear 2018MakeFordModelEscapeExtent of DamagesThe Ford Escape had damage to the front bumper and hood. Estimated repair cost: $2,000.Owner Sarah BrownAddress 405 Hilgard AvPhone 2139876543City Los AngelesState CAZip90095AddressCityState ZipInsurance InformationCompany NameMors Mutual InsurancePolicy No. 987654321Phone 2131234567Agent Name Emily Carter## INJUREDName Michael JohnsonPhone 3101234567Address3470 Troutsdale PkwyCity Los AngelesStateCAZip90089Extent of InjuryI sustained minor injuries, including neck pain and a bruise on my left arm. I sought medical attention at the local urgent care facility.## WITNESSESName David ThompsonPhone 3105678901Address 633 W 5th StCity Los AngelesState CAZip 90071## IMPACTIs damaged auto essential to business?NoHow? \n\u001B[32m**********************************************************************\u001B[0m\n\n--------------------------------------------------------------------------------\n\u001B[33mAISearchAssistant\u001B[0m (to User):\n\nThe insurance claim for the accident that happened on Sunset Blvd was filed by Michael Johnson. Here are the details:\n\n- **Driver/Claimant:** Michael Johnson\n- **Date of Birth:** 01/15/1985\n- **Vehicle:** 2020 Honda Accord (License Plate: 7XYZ123)\n- **Accident Date:** October 15, 2023\n- **Location:** Intersection of Vine Street and Sunset Blvd, Los Angeles, CA\n- **Police Dept. Involved:** LAPD\n- **Description of Accident:** A blue 2018 Ford Escape (License Plate: 8ABC456) ran a red light and collided with the front passenger side of Michael Johnson's vehicle.\n- **Extent of Damages:** Significant damage to the front passenger side of the Honda Accord, estimated repair cost: $3,500.\n- **Injuries:** Minor injuries including neck pain and a bruise on the left arm.\n\nIf you need more information or further assistance, feel free to ask!\n\n--------------------------------------------------------------------------------\n\u001B[33mUser\u001B[0m (to AISearchAssistant):\n\n\n\n--------------------------------------------------------------------------------\n\u001B[33mAISearchAssistant\u001B[0m (to User):\n\nTERMINATE\n\n--------------------------------------------------------------------------------\n"
     ]
    }
   ],
   "source": [
    "message_1 = \"Search for 'Who filed the insurance claim for the accident that happened on Sunset Blvd?' in the above defined index?\"\n",
    "\n",
    "agent_response_1 = await user_proxy.a_initiate_chat(recipient=ai_search_agent, message=message_1)"
   ]
  },
  {
   "cell_type": "code",
   "execution_count": 0,
   "metadata": {
    "application/vnd.databricks.v1+cell": {
     "cellMetadata": {
      "byteLimit": 2048000,
      "rowLimit": 10000
     },
     "inputWidgets": {},
     "nuid": "e969dd30-8722-48d3-86c0-a31ef14b3f6b",
     "showTitle": false,
     "title": ""
    }
   },
   "outputs": [
    {
     "output_type": "stream",
     "name": "stdout",
     "output_type": "stream",
     "text": [
      "\u001B[33mUser\u001B[0m (to AISearchAssistant):\n\nSearch for 'How did Rachel Patel's accident happen?' in the above defined index?\n\n--------------------------------------------------------------------------------\n\u001B[33mAISearchAssistant\u001B[0m (to User):\n\n\u001B[32m***** Suggested tool call (call_5wRPkhhqSW54ogdtvXjHvoxv): search_retrieval *****\u001B[0m\nArguments: \n{\"user_input\":\"How did Rachel Patel's accident happen?\"}\n\u001B[32m*********************************************************************************\u001B[0m\n\n--------------------------------------------------------------------------------\n\u001B[35m\n>>>>>>>> EXECUTING ASYNC FUNCTION search_retrieval...\u001B[0m\n"
     ]
    },
    {
     "output_type": "stream",
     "name": "stderr",
     "output_type": "stream",
     "text": [
      "[runtime logging] log_function_use: autogen logger is None\n"
     ]
    },
    {
     "output_type": "stream",
     "name": "stdout",
     "output_type": "stream",
     "text": [
      "\u001B[33mUser\u001B[0m (to AISearchAssistant):\n\n\u001B[33mUser\u001B[0m (to AISearchAssistant):\n\n\u001B[32m***** Response from calling tool (call_5wRPkhhqSW54ogdtvXjHvoxv) *****\u001B[0m\nAUTOMOBILE CLAIM===## LOSSDate03/10/2023LocationIntersection of Main St and Oak StCity BoiseState IDPolice Dept. InvolvedBoise Police DepartmentTicket Issued## DESCRIPTION OF ACCIDENTOn March 10, 2023, at approximately 9:15 AM, I was backing out of a parking space in the Boise Towne Square Mall parking lot. As I checked my mirrors and blind spots, I did not see any vehicles approaching. However, the driver of Vehicle 2, Michael Chen, was driving his truck through the parking lot at a high speed and failed to stop in time. He collided with my vehicle, causing significant damage to the rear bumper and trunk.## INSURED VEHICLEYear2018MakeToyotaModel CamryV.I.N. 4T1BF1FK8JU901234PlateGHI789Extent of Damages Rear bumper and trunk damage, including scratches, dents, and broken taillightPresent Location Impound LotDriver Rachel PatelDate of BirthFebruary 12, 1992License No. ID1234567(ASK IF OFFICER OF CO)State ID## OTHER VEHICLEYear 2020Make FordModelF-150Extent of DamagesFront bumper and grille damage, including scratches, dents, and broken headlightOwner Michael ChenPhone5559999999Address 303 Maple AvenueCity BoiseState IDZip83701AddressCityState ZipInsurance InformationCompany NameXYZ Insurance CompanyPolicy No. 987654321Agent NameMichael HawkPhone 2135672349## INJUREDNamePhoneAddressCityState ZipExtent of Injury## WITNESSESName Sophia RodriguezPhone 5554567890Address 2557 La Cienega BoulevardCity BoiseState IDZip83701## IMPACTIs damaged auto essential to business?YesHow? Rachel can't drive to work anymore. \n\u001B[32m**********************************************************************\u001B[0m\n\n--------------------------------------------------------------------------------\n\u001B[33mAISearchAssistant\u001B[0m (to User):\n\nRachel Patel's accident occurred on March 10, 2023, at approximately 9:15 AM in the Boise Towne Square Mall parking lot. While backing out of a parking space, Rachel did not see any approaching vehicles. Michael Chen, driving his truck at high speed through the parking lot, failed to stop in time and collided with Rachel's vehicle, causing significant damage to the rear bumper and trunk of her 2018 Toyota Camry.\n\n--------------------------------------------------------------------------------\n\u001B[33mUser\u001B[0m (to AISearchAssistant):\n\n\n\n--------------------------------------------------------------------------------\n\u001B[33mAISearchAssistant\u001B[0m (to User):\n\nTERMINATE\n\n--------------------------------------------------------------------------------\n"
     ]
    }
   ],
   "source": [
    "message_2 = \"Search for 'How did Rachel Patel's accident happen?' in the above defined index?\"\n",
    "\n",
    "agent_response = await user_proxy.a_initiate_chat(recipient=ai_search_agent, message=message_2)"
   ]
  },
  {
   "cell_type": "code",
   "execution_count": 0,
   "metadata": {
    "application/vnd.databricks.v1+cell": {
     "cellMetadata": {
      "byteLimit": 2048000,
      "rowLimit": 10000
     },
     "inputWidgets": {},
     "nuid": "f6c041da-fcf3-4fee-bb21-eecd2f62acb1",
     "showTitle": false,
     "title": ""
    }
   },
   "outputs": [
    {
     "output_type": "stream",
     "name": "stdout",
     "output_type": "stream",
     "text": [
      "\u001B[33mUser\u001B[0m (to AISearchAssistant):\n\nSearch for 'Who are some witnesses for the Micheal Johnson's accident and how can we contact them?' in the above defined index?\n\n--------------------------------------------------------------------------------\n\u001B[33mAISearchAssistant\u001B[0m (to User):\n\n\u001B[32m***** Suggested tool call (call_iBAokdY2rMWvqBWDPRoXoKX9): search_retrieval *****\u001B[0m\nArguments: \n{\"user_input\":\"Who are some witnesses for the Micheal Johnson's accident and how can we contact them?\"}\n\u001B[32m*********************************************************************************\u001B[0m\n\n--------------------------------------------------------------------------------\n\u001B[35m\n>>>>>>>> EXECUTING ASYNC FUNCTION search_retrieval...\u001B[0m\n"
     ]
    },
    {
     "output_type": "stream",
     "name": "stderr",
     "output_type": "stream",
     "text": [
      "[runtime logging] log_function_use: autogen logger is None\n"
     ]
    },
    {
     "output_type": "stream",
     "name": "stdout",
     "output_type": "stream",
     "text": [
      "\u001B[33mUser\u001B[0m (to AISearchAssistant):\n\n\u001B[33mUser\u001B[0m (to AISearchAssistant):\n\n\u001B[32m***** Response from calling tool (call_iBAokdY2rMWvqBWDPRoXoKX9) *****\u001B[0m\nAUTOMOBILE CLAIM===## LOSSDate06/23/2023Location Intersection of Vine Street and Sunset BICity Los AngelesStateCAPolice Dept. InvolvedLAPDTicket IssuedTraffic Violation## DESCRIPTION OF ACCIDENTOn October 15, 2023, at approximately 3:30 PM, I was driving my 2020 Honda Accord (License Plate: 7XYZ123) southbound on Vine St,approaching the intersection with Sunset Blvd. As I entered the intersection, a blue 2018 Ford Escape (License Plate: 8ABC456) traveling eastbound on Sunset Blvd ran a red light and collided with the front passenger side of my vehicle.## INSURED VEHICLEYear2020MakeHondaModel AccordV.I.N. 1HGCV1F30LA123456Plate7XYZ123Extent of DamagesThe front passenger side of my Honda Accord sustained significant damage, including a dented fender and broken headlight. Estimated repair cost: $3,500.Present Location Impound LotDriver Michael JohnsonDate of Birth01/15/1985License No.11111111111(ASK IF OFFICER OF CO)State CA## OTHER VEHICLEYear 2018MakeFordModelEscapeExtent of DamagesThe Ford Escape had damage to the front bumper and hood. Estimated repair cost: $2,000.Owner Sarah BrownAddress 405 Hilgard AvPhone 2139876543City Los AngelesState CAZip90095AddressCityState ZipInsurance InformationCompany NameMors Mutual InsurancePolicy No. 987654321Phone 2131234567Agent Name Emily Carter## INJUREDName Michael JohnsonPhone 3101234567Address3470 Troutsdale PkwyCity Los AngelesStateCAZip90089Extent of InjuryI sustained minor injuries, including neck pain and a bruise on my left arm. I sought medical attention at the local urgent care facility.## WITNESSESName David ThompsonPhone 3105678901Address 633 W 5th StCity Los AngelesState CAZip 90071## IMPACTIs damaged auto essential to business?NoHow? \n\u001B[32m**********************************************************************\u001B[0m\n\n--------------------------------------------------------------------------------\n\u001B[33mAISearchAssistant\u001B[0m (to User):\n\n### Witnesses for Michael Johnson's Accident\n\n**Name:** David Thompson  \n**Phone:** 310-567-8901  \n**Address:** 633 W 5th St, Los Angeles, CA 90071  \n\nYou can contact David Thompson at the provided phone number or address for more information regarding the accident involving Michael Johnson. \n\nTERMINATE\n\n--------------------------------------------------------------------------------\n"
     ]
    }
   ],
   "source": [
    "message_3 = \"Search for 'Who are some witnesses for the Micheal Johnson's accident and how can we contact them?' in the above defined index?\"\n",
    "\n",
    "agent_response = await user_proxy.a_initiate_chat(recipient=ai_search_agent, message=message_3)"
   ]
  },
  {
   "cell_type": "code",
   "execution_count": 0,
   "metadata": {
    "application/vnd.databricks.v1+cell": {
     "cellMetadata": {
      "byteLimit": 2048000,
      "rowLimit": 10000
     },
     "inputWidgets": {},
     "nuid": "f3312a16-4210-4aaf-b62c-4801ef495e8e",
     "showTitle": false,
     "title": ""
    }
   },
   "outputs": [
    {
     "output_type": "stream",
     "name": "stdout",
     "output_type": "stream",
     "text": [
      "\u001B[33mUser\u001B[0m (to AISearchAssistant):\n\nSearch for 'How was Mr. Doe's vehicle damaged?' in the above defined index?\n\n--------------------------------------------------------------------------------\n\u001B[33mAISearchAssistant\u001B[0m (to User):\n\n\u001B[32m***** Suggested tool call (call_7dBOX2Ix6QInWsoZu1BSGEoK): search_retrieval *****\u001B[0m\nArguments: \n{\"user_input\":\"How was Mr. Doe's vehicle damaged?\"}\n\u001B[32m*********************************************************************************\u001B[0m\n\n--------------------------------------------------------------------------------\n\u001B[35m\n>>>>>>>> EXECUTING ASYNC FUNCTION search_retrieval...\u001B[0m\n"
     ]
    },
    {
     "output_type": "stream",
     "name": "stderr",
     "output_type": "stream",
     "text": [
      "[runtime logging] log_function_use: autogen logger is None\n"
     ]
    },
    {
     "output_type": "stream",
     "name": "stdout",
     "output_type": "stream",
     "text": [
      "\u001B[33mUser\u001B[0m (to AISearchAssistant):\n\n\u001B[33mUser\u001B[0m (to AISearchAssistant):\n\n\u001B[32m***** Response from calling tool (call_7dBOX2Ix6QInWsoZu1BSGEoK) *****\u001B[0m\nAUTOMOBILE CLAIM===## LOSSDate10/15/2023Location Intersection of 5th Ave and Elm StCity ChicagoPolice Dept. Involved CPDStateTicket IssuedTraffic Violation Ticket## DESCRIPTION OF ACCIDENTI was traveling north on 5th Ave when the other vehicle, which was traveling east on Elm St, failed to stop at a red light and collided with the front passenger side of my vehicle. The impact caused significant damage to my car and minor injuries to me.## INSURED VEHICLEYear2020Make HondaModel AccordV.I.N. 1HGCV1F30LA123456PlateXYZ 1234Extent of Damages Front bumper, hood, fenders, head/tailights, windshield, doorsPresent Location Impound LotDriver John Doe(ASK IF OFFICER OF CO)Date of Birth January 15, 1985 License No. ABC123456State IL## OTHER VEHICLEYear 2018Make FordModelF-150Extent of Damages Bumper, side doorsOwner Michael GreenAddress 321 Main StCity ChicagoState ILZip60601AddressPhone 3129999999CityState ZipInsurance InformationCompany NameXYZ InsurancePolicy No. 987654321PhoneAgent Name## INJUREDName John DoePhone (555) 123-4567Address123 Main StCity ChicagoState IL Zip 60601Extent of InjuryWhiplash and bruising on the right arm## WITNESSESName Jane SmithPhone (555) 987-6543Address 123 Market StCity Chicago## IMPACTIs damaged auto essential to business? NoHow?State ILZip 60601 \n\u001B[32m**********************************************************************\u001B[0m\n\n--------------------------------------------------------------------------------\n\u001B[33mAISearchAssistant\u001B[0m (to User):\n\nMr. Doe's vehicle was damaged when another vehicle, traveling east on Elm St, failed to stop at a red light and collided with the front passenger side of his car. The impact caused significant damage to the front bumper, hood, fenders, head/tail lights, windshield, and doors of Mr. Doe's 2020 Honda Accord.\n\n--------------------------------------------------------------------------------\n\u001B[33mUser\u001B[0m (to AISearchAssistant):\n\n\n\n--------------------------------------------------------------------------------\n\u001B[33mAISearchAssistant\u001B[0m (to User):\n\nTERMINATE\n\n--------------------------------------------------------------------------------\n"
     ]
    }
   ],
   "source": [
    "message_4 = \"Search for 'How was Mr. Doe's vehicle damaged?' in the above defined index?\"\n",
    "\n",
    "agent_response = await user_proxy.a_initiate_chat(recipient=ai_search_agent, message=message_4)"
   ]
  },
  {
   "cell_type": "code",
   "execution_count": 0,
   "metadata": {
    "application/vnd.databricks.v1+cell": {
     "cellMetadata": {
      "byteLimit": 2048000,
      "rowLimit": 10000
     },
     "inputWidgets": {},
     "nuid": "6368b4fb-4ddc-4b4c-a5bf-d8fa4d0874e7",
     "showTitle": false,
     "title": ""
    }
   },
   "outputs": [
    {
     "output_type": "stream",
     "name": "stdout",
     "output_type": "stream",
     "text": [
      "\u001B[33mUser\u001B[0m (to AISearchAssistant):\n\nSearch for 'Who are some witnesses for Rachel Patel's accident and how can we contact them?' in the above defined index?\n\n--------------------------------------------------------------------------------\n\u001B[33mAISearchAssistant\u001B[0m (to User):\n\n\u001B[32m***** Suggested tool call (call_3GpFzcZqet0rQzFYFZ5nJ2Ew): search_retrieval *****\u001B[0m\nArguments: \n{\"user_input\":\"Who are some witnesses for Rachel Patel's accident and how can we contact them?\"}\n\u001B[32m*********************************************************************************\u001B[0m\n\n--------------------------------------------------------------------------------\n\u001B[35m\n>>>>>>>> EXECUTING ASYNC FUNCTION search_retrieval...\u001B[0m\n"
     ]
    },
    {
     "output_type": "stream",
     "name": "stderr",
     "output_type": "stream",
     "text": [
      "[runtime logging] log_function_use: autogen logger is None\n"
     ]
    },
    {
     "output_type": "stream",
     "name": "stdout",
     "output_type": "stream",
     "text": [
      "\u001B[33mUser\u001B[0m (to AISearchAssistant):\n\n\u001B[33mUser\u001B[0m (to AISearchAssistant):\n\n\u001B[32m***** Response from calling tool (call_3GpFzcZqet0rQzFYFZ5nJ2Ew) *****\u001B[0m\nAUTOMOBILE CLAIM===## LOSSDate03/10/2023LocationIntersection of Main St and Oak StCity BoiseState IDPolice Dept. InvolvedBoise Police DepartmentTicket Issued## DESCRIPTION OF ACCIDENTOn March 10, 2023, at approximately 9:15 AM, I was backing out of a parking space in the Boise Towne Square Mall parking lot. As I checked my mirrors and blind spots, I did not see any vehicles approaching. However, the driver of Vehicle 2, Michael Chen, was driving his truck through the parking lot at a high speed and failed to stop in time. He collided with my vehicle, causing significant damage to the rear bumper and trunk.## INSURED VEHICLEYear2018MakeToyotaModel CamryV.I.N. 4T1BF1FK8JU901234PlateGHI789Extent of Damages Rear bumper and trunk damage, including scratches, dents, and broken taillightPresent Location Impound LotDriver Rachel PatelDate of BirthFebruary 12, 1992License No. ID1234567(ASK IF OFFICER OF CO)State ID## OTHER VEHICLEYear 2020Make FordModelF-150Extent of DamagesFront bumper and grille damage, including scratches, dents, and broken headlightOwner Michael ChenPhone5559999999Address 303 Maple AvenueCity BoiseState IDZip83701AddressCityState ZipInsurance InformationCompany NameXYZ Insurance CompanyPolicy No. 987654321Agent NameMichael HawkPhone 2135672349## INJUREDNamePhoneAddressCityState ZipExtent of Injury## WITNESSESName Sophia RodriguezPhone 5554567890Address 2557 La Cienega BoulevardCity BoiseState IDZip83701## IMPACTIs damaged auto essential to business?YesHow? Rachel can't drive to work anymore. \n\u001B[32m**********************************************************************\u001B[0m\n\n--------------------------------------------------------------------------------\n\u001B[33mAISearchAssistant\u001B[0m (to User):\n\nOne of the witnesses for Rachel Patel's accident is:\n\n- **Name:** Sophia Rodriguez\n- **Phone:** 555-456-7890\n- **Address:** 2557 La Cienega Boulevard, Boise, ID 83701\n\nTERMINATE\n\n--------------------------------------------------------------------------------\n"
     ]
    }
   ],
   "source": [
    "message_5 = \"Search for 'Who are some witnesses for Rachel Patel's accident and how can we contact them?' in the above defined index?\"\n",
    "\n",
    "agent_response = await user_proxy.a_initiate_chat(recipient=ai_search_agent, message=message_5)"
   ]
  },
  {
   "cell_type": "code",
   "execution_count": 0,
   "metadata": {
    "application/vnd.databricks.v1+cell": {
     "cellMetadata": {
      "byteLimit": 2048000,
      "rowLimit": 10000
     },
     "inputWidgets": {},
     "nuid": "efb63877-6958-4a6f-a56b-631c8dedfed4",
     "showTitle": false,
     "title": ""
    }
   },
   "outputs": [
    {
     "output_type": "stream",
     "name": "stdout",
     "output_type": "stream",
     "text": [
      "\u001B[33mUser\u001B[0m (to AISearchAssistant):\n\nSearch for 'Did Ms. Johnson sustain any injuries? If so, what were those injuries?' in the above defined index?\n\n--------------------------------------------------------------------------------\n\u001B[33mAISearchAssistant\u001B[0m (to User):\n\n\u001B[32m***** Suggested tool call (call_190m9rE1b5DzxfI5jwqQaMgj): search_retrieval *****\u001B[0m\nArguments: \n{\"user_input\":\"Did Ms. Johnson sustain any injuries? If so, what were those injuries?\"}\n\u001B[32m*********************************************************************************\u001B[0m\n\n--------------------------------------------------------------------------------\n\u001B[35m\n>>>>>>>> EXECUTING ASYNC FUNCTION search_retrieval...\u001B[0m\n"
     ]
    },
    {
     "output_type": "stream",
     "name": "stderr",
     "output_type": "stream",
     "text": [
      "[runtime logging] log_function_use: autogen logger is None\n"
     ]
    },
    {
     "output_type": "stream",
     "name": "stdout",
     "output_type": "stream",
     "text": [
      "\u001B[33mUser\u001B[0m (to AISearchAssistant):\n\n\u001B[33mUser\u001B[0m (to AISearchAssistant):\n\n\u001B[32m***** Response from calling tool (call_190m9rE1b5DzxfI5jwqQaMgj) *****\u001B[0m\nAUTOMOBILE CLAIM===## LOSSDate October 10, 2023Location Lombard StreetCity San FranciscoStateCAPolice Dept. InvolvedSFPDTicket IssuedTraffic Violation## DESCRIPTION OF ACCIDENTOn the morning of October 10, 2023, I was driving my blue Honda Civic (License Plate: 7ABC123) down Lombard Street in San Francisco. The weather was foggy, and traffic was moving slowly due to congestion. As I approached a stop, I braked gently to maintain a safe distance from the vehicle in front of me.Suddenly, I felt a jolt from behind as Mark Johnson, who was driving a delivery van (License Plate: 8XYZ456), collided with the rear of my vehicle. The impact caused damage to the rear bumper and trunk of my car. I was wearing my seatbelt and did not sustain any injuries, but I was shaken by the incident.Mark exited his vehicle to check on me, and we exchanged insurance information. I have attached a copy of the police report, which was filed at the scene, along with photographs of the damage to both vehicles.## INSURED VEHICLEYear2010Make HondaModel CivicV.I.N. 1HGCM82633A123456Plate7ABC123Extent of Damages Damage to rear bumper, Scratches on trunkPresent Location Impound LotDriver Emily Rodriguez(ASK IF OFFICER OF CO)Date of BirthMarch 15, 1991License No. D123456789State CA## OTHER VEHICLEYear 2020MakeFordModelTransit 250Extent of DamagesOwner Mark JohnsonDamage to front bumperPhone4152022020Address 305 Leavenworth StreetCity San FranciscoState CAZip94109AddressCityState Zip### Insurance InformationCompany NameXYZ InsurancePolicy No. 987654321Agent NameLisa CarterPhone (415) 555-9876## INJUREDNamePhoneAddressCityState ZipExtent of Injury## WITNESSESName Mia ChenPhone(415) 555-5678Address 5678 Beach StCity San Francisco## IMPACTIs damaged auto essential to business?NoHow?State CAZip 94123 \n\u001B[32m**********************************************************************\u001B[0m\n\n--------------------------------------------------------------------------------\n\u001B[33mAISearchAssistant\u001B[0m (to User):\n\nThe search results indicate that Ms. Johnson did not sustain any injuries in the described automobile accident. The relevant excerpt states:\n\n\"I was wearing my seatbelt and did not sustain any injuries, but I was shaken by the incident.\"\n\nTherefore, Ms. Johnson did not have any injuries from the accident. \n\nTERMINATE\n\n--------------------------------------------------------------------------------\n"
     ]
    }
   ],
   "source": [
    "message_6 = \"Search for 'Did Ms. Johnson sustain any injuries? If so, what were those injuries?' in the above defined index?\"\n",
    "\n",
    "agent_response = await user_proxy.a_initiate_chat(recipient=ai_search_agent, message=message_6)"
   ]
  },
  {
   "cell_type": "code",
   "execution_count": 0,
   "metadata": {
    "application/vnd.databricks.v1+cell": {
     "cellMetadata": {
      "byteLimit": 2048000,
      "rowLimit": 10000
     },
     "inputWidgets": {},
     "nuid": "7c0d5bc0-bf0a-4655-b134-36ca028aa4a5",
     "showTitle": false,
     "title": ""
    }
   },
   "outputs": [
    {
     "output_type": "stream",
     "name": "stdout",
     "output_type": "stream",
     "text": [
      "\u001B[33mUser\u001B[0m (to AISearchAssistant):\n\nSearch for 'Given the accident that happened on Lombard Street, name a party that is liable for the damages and explain why.' in the above defined index?\n\n--------------------------------------------------------------------------------\n\u001B[33mAISearchAssistant\u001B[0m (to User):\n\n\u001B[32m***** Suggested tool call (call_T40quD9CO5CdvyJZ5tw4tNRH): search_retrieval *****\u001B[0m\nArguments: \n{\"user_input\":\"Given the accident that happened on Lombard Street, name a party that is liable for the damages and explain why.\"}\n\u001B[32m*********************************************************************************\u001B[0m\n\n--------------------------------------------------------------------------------\n\u001B[35m\n>>>>>>>> EXECUTING ASYNC FUNCTION search_retrieval...\u001B[0m\n"
     ]
    },
    {
     "output_type": "stream",
     "name": "stderr",
     "output_type": "stream",
     "text": [
      "[runtime logging] log_function_use: autogen logger is None\n"
     ]
    },
    {
     "output_type": "stream",
     "name": "stdout",
     "output_type": "stream",
     "text": [
      "\u001B[33mUser\u001B[0m (to AISearchAssistant):\n\n\u001B[33mUser\u001B[0m (to AISearchAssistant):\n\n\u001B[32m***** Response from calling tool (call_T40quD9CO5CdvyJZ5tw4tNRH) *****\u001B[0m\nAUTOMOBILE CLAIM===## LOSSDate October 10, 2023Location Lombard StreetCity San FranciscoStateCAPolice Dept. InvolvedSFPDTicket IssuedTraffic Violation## DESCRIPTION OF ACCIDENTOn the morning of October 10, 2023, I was driving my blue Honda Civic (License Plate: 7ABC123) down Lombard Street in San Francisco. The weather was foggy, and traffic was moving slowly due to congestion. As I approached a stop, I braked gently to maintain a safe distance from the vehicle in front of me.Suddenly, I felt a jolt from behind as Mark Johnson, who was driving a delivery van (License Plate: 8XYZ456), collided with the rear of my vehicle. The impact caused damage to the rear bumper and trunk of my car. I was wearing my seatbelt and did not sustain any injuries, but I was shaken by the incident.Mark exited his vehicle to check on me, and we exchanged insurance information. I have attached a copy of the police report, which was filed at the scene, along with photographs of the damage to both vehicles.## INSURED VEHICLEYear2010Make HondaModel CivicV.I.N. 1HGCM82633A123456Plate7ABC123Extent of Damages Damage to rear bumper, Scratches on trunkPresent Location Impound LotDriver Emily Rodriguez(ASK IF OFFICER OF CO)Date of BirthMarch 15, 1991License No. D123456789State CA## OTHER VEHICLEYear 2020MakeFordModelTransit 250Extent of DamagesOwner Mark JohnsonDamage to front bumperPhone4152022020Address 305 Leavenworth StreetCity San FranciscoState CAZip94109AddressCityState Zip### Insurance InformationCompany NameXYZ InsurancePolicy No. 987654321Agent NameLisa CarterPhone (415) 555-9876## INJUREDNamePhoneAddressCityState ZipExtent of Injury## WITNESSESName Mia ChenPhone(415) 555-5678Address 5678 Beach StCity San Francisco## IMPACTIs damaged auto essential to business?NoHow?State CAZip 94123 \n\u001B[32m**********************************************************************\u001B[0m\n\n--------------------------------------------------------------------------------\n\u001B[33mAISearchAssistant\u001B[0m (to User):\n\nIn the accident that occurred on Lombard Street, Mark Johnson, who was driving a delivery van, is liable for the damages. The police report and the description of the accident indicate that Mark Johnson collided with the rear of Emily Rodriguez's vehicle. Typically, in rear-end collisions, the driver who hits the vehicle in front is considered at fault because they are expected to maintain a safe distance and be able to stop safely to avoid a collision.\n\n--------------------------------------------------------------------------------\n\u001B[33mUser\u001B[0m (to AISearchAssistant):\n\n\n\n--------------------------------------------------------------------------------\n\u001B[33mAISearchAssistant\u001B[0m (to User):\n\nTERMINATE\n\n--------------------------------------------------------------------------------\n"
     ]
    }
   ],
   "source": [
    "message_7 = \"Search for 'Given the accident that happened on Lombard Street, name a party that is liable for the damages and explain why.' in the above defined index?\"\n",
    "\n",
    "agent_response = await user_proxy.a_initiate_chat(recipient=ai_search_agent, message=message_7)"
   ]
  }
 ],
 "metadata": {
  "application/vnd.databricks.v1+notebook": {
   "dashboards": [],
   "environmentMetadata": null,
   "language": "python",
   "notebookMetadata": {
    "pythonIndentUnit": 4
   },
   "notebookName": "agent-based-auto-insurance-rag-page-based chunking",
   "widgets": {}
  },
  "kernelspec": {
   "display_name": "genai",
   "language": "python",
   "name": "python3"
  },
  "language_info": {
   "codemirror_mode": {
    "name": "ipython",
    "version": 3
   },
   "file_extension": ".py",
   "mimetype": "text/x-python",
   "name": "python",
   "nbconvert_exporter": "python",
   "pygments_lexer": "ipython3",
   "version": "3.12.4"
  }
 },
 "nbformat": 4,
 "nbformat_minor": 0
}
